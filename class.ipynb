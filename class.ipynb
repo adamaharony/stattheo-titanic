{
 "cells": [
  {
   "cell_type": "markdown",
   "metadata": {},
   "source": [
    "Statistical Theory --- Final Project\n",
    "---\n",
    "**Class-based Question Notebook**\n",
    "\n",
    "By Adam Aharony and Adva Davidof."
   ]
  },
  {
   "cell_type": "code",
   "execution_count": 1,
   "metadata": {},
   "outputs": [],
   "source": [
    "import pandas as pd\n",
    "import numpy as np\n",
    "from matplotlib import pyplot as plt\n",
    "import seaborn as sns"
   ]
  },
  {
   "cell_type": "code",
   "execution_count": 2,
   "metadata": {},
   "outputs": [],
   "source": [
    "# Reading dataset from csv\n",
    "df = pd.read_csv(\"titanic.csv\")\n",
    "# Dropping unnecessary columns\n",
    "df.drop(\n",
    "    columns=[\n",
    "        \"PassengerId\",\n",
    "        \"Name\",\n",
    "        \"Ticket\",\n",
    "        \"Cabin\",\n",
    "        \"Embarked\"\n",
    "    ],\n",
    "    inplace=True\n",
    ")\n",
    "\n",
    "# Desired data type for certain columns\n",
    "types = {\n",
    "    \"Survived\": \"bool\",\n",
    "    \"Pclass\": \"int8\",\n",
    "    \"SibSp\": \"int8\",\n",
    "    \"Parch\": \"int8\",\n",
    "}\n",
    "for column, dtype in types.items():\n",
    "    df[column] = df[column].astype(dtype)\n",
    "\n",
    "# New 'additional family' feature\n",
    "df[\"Family\"] = df[\"SibSp\"] + df[\"Parch\"]"
   ]
  },
  {
   "cell_type": "code",
   "execution_count": 3,
   "metadata": {},
   "outputs": [],
   "source": [
    "# Float precision variable, per column\n",
    "DEFAULT_PRECISION = 2\n",
    "COLOURS = {\n",
    "    \"blue\": \"#008AF3\",\n",
    "    \"mid_blue\": \"#006AB2\",\n",
    "    \"dark_blue\": \"#004676\",\n",
    "    \"pink\": \"#FF027A\",\n",
    "    \"red\": \"#B71C1C\",\n",
    "    \"green\": \"#1B5E20\"\n",
    "}\n",
    "\n",
    "rc = {\n",
    "    \"text.color\": \"black\",\n",
    "    \"axes.labelcolor\": \"black\",\n",
    "    \"legend.labelcolor\": \"black\",\n",
    "    \"xtick.color\": \"black\",\n",
    "    \"ytick.color\": \"black\",\n",
    "}\n",
    "\n",
    "sns.set_theme(\n",
    "    context=\"talk\",\n",
    "    style=\"whitegrid\",\n",
    "    palette=\"muted\",\n",
    "    rc=rc\n",
    ")"
   ]
  },
  {
   "cell_type": "markdown",
   "metadata": {},
   "source": [
    "## Statistical Tests"
   ]
  },
  {
   "cell_type": "code",
   "execution_count": 4,
   "metadata": {},
   "outputs": [
    {
     "data": {
      "text/html": [
       "<div>\n",
       "<style scoped>\n",
       "    .dataframe tbody tr th:only-of-type {\n",
       "        vertical-align: middle;\n",
       "    }\n",
       "\n",
       "    .dataframe tbody tr th {\n",
       "        vertical-align: top;\n",
       "    }\n",
       "\n",
       "    .dataframe thead th {\n",
       "        text-align: right;\n",
       "    }\n",
       "</style>\n",
       "<table border=\"1\" class=\"dataframe\">\n",
       "  <thead>\n",
       "    <tr style=\"text-align: right;\">\n",
       "      <th>Survived</th>\n",
       "      <th>False</th>\n",
       "      <th>True</th>\n",
       "    </tr>\n",
       "    <tr>\n",
       "      <th>Pclass</th>\n",
       "      <th></th>\n",
       "      <th></th>\n",
       "    </tr>\n",
       "  </thead>\n",
       "  <tbody>\n",
       "    <tr>\n",
       "      <th>1</th>\n",
       "      <td>80</td>\n",
       "      <td>136</td>\n",
       "    </tr>\n",
       "    <tr>\n",
       "      <th>2</th>\n",
       "      <td>97</td>\n",
       "      <td>87</td>\n",
       "    </tr>\n",
       "    <tr>\n",
       "      <th>3</th>\n",
       "      <td>372</td>\n",
       "      <td>119</td>\n",
       "    </tr>\n",
       "  </tbody>\n",
       "</table>\n",
       "</div>"
      ],
      "text/plain": [
       "Survived  False  True \n",
       "Pclass                \n",
       "1            80    136\n",
       "2            97     87\n",
       "3           372    119"
      ]
     },
     "execution_count": 4,
     "metadata": {},
     "output_type": "execute_result"
    }
   ],
   "source": [
    "from scipy.stats import chi2_contingency, fisher_exact, ttest_ind\n",
    "from statsmodels.stats.contingency_tables import mcnemar\n",
    "from statsmodels.api import Logit\n",
    "from statsmodels.genmod.generalized_estimating_equations import GEE\n",
    "from scipy.stats import permutation_test\n",
    "\n",
    "\n",
    "ALPHA = 5e-2\n",
    "# Contingency table\n",
    "survival_rate_by_class = pd.crosstab(df[\"Pclass\"], df[\"Survived\"])\n",
    "class_survivors = df.query(\"Survived == True\")[\"Pclass\"]\n",
    "class_victims = df.query(\"Survived == False\")[\"Pclass\"]\n",
    "survival_rate_by_class"
   ]
  },
  {
   "cell_type": "markdown",
   "metadata": {},
   "source": [
    "### Chi-Square Test for Independence\n"
   ]
  },
  {
   "cell_type": "code",
   "execution_count": 5,
   "metadata": {},
   "outputs": [
    {
     "name": "stdout",
     "output_type": "stream",
     "text": [
      "Chi-Square: 102.89\n",
      "P-value: 4.55e-23\n",
      "Degrees of Freedom: 2\n",
      "Expected counts:\n",
      "[[133.09  82.91]\n",
      " [113.37  70.63]\n",
      " [302.54 188.46]]\n",
      "H_0 can be rejected.\n"
     ]
    }
   ],
   "source": [
    "# Perform Chi-Square test\n",
    "chi2, p, dof, expected = chi2_contingency(survival_rate_by_class)\n",
    "\n",
    "# Print results\n",
    "with np.printoptions(precision=DEFAULT_PRECISION):\n",
    "    print(f\"Chi-Square: {chi2:.{DEFAULT_PRECISION}f}\")\n",
    "    print(f\"P-value: {p:.{DEFAULT_PRECISION}e}\")\n",
    "    print(f\"Degrees of Freedom: {dof}\")\n",
    "    print(f\"Expected counts:\\n{expected}\")\n",
    "\n",
    "# Test interpretation\n",
    "if p < ALPHA:\n",
    "    print(\"H_0 can be rejected.\")\n",
    "else:\n",
    "    print(\"H_0 cannot be rejected.\")"
   ]
  },
  {
   "cell_type": "markdown",
   "metadata": {
    "notebookRunGroups": {
     "groupValue": "1"
    }
   },
   "source": [
    "### Fisher's Exact Test\n"
   ]
  },
  {
   "cell_type": "markdown",
   "metadata": {},
   "source": [
    "#### Two-Sided"
   ]
  },
  {
   "cell_type": "code",
   "execution_count": 6,
   "metadata": {},
   "outputs": [
    {
     "name": "stdout",
     "output_type": "stream",
     "text": [
      "Two-Sided Odds Ratios:\n",
      "[[0.   0.53 0.19]\n",
      " [1.9  0.   0.36]\n",
      " [5.31 2.8  0.  ]]\n",
      "Two-Sided P-values:\n",
      "[[0.00e+00 1.78e-03 1.79e-22]\n",
      " [1.78e-03 0.00e+00 2.14e-08]\n",
      " [1.79e-22 2.14e-08 0.00e+00]]\n",
      "Whether or not H_0 can be rejected, sorted by pairs of classes:\n",
      "[[ True  True  True]\n",
      " [ True  True  True]\n",
      " [ True  True  True]]\n"
     ]
    }
   ],
   "source": [
    "# Since Fisher's Exact Test is designed for 2x2 tables, we split the analysis into pairs of classes\n",
    "results_table = np.zeros(\n",
    "    (\n",
    "        survival_rate_by_class.index.max(),\n",
    "        survival_rate_by_class.index.max(),\n",
    "        2\n",
    "    )\n",
    ")\n",
    "# Iterate over all pairs of classes\n",
    "for i in range(0, results_table.shape[0]):\n",
    "    for j in range(0, results_table.shape[1]):\n",
    "        if i != j:\n",
    "            # odds_ratio, p_value\n",
    "            results_table[i, j] = fisher_exact(survival_rate_by_class.iloc[[i, j]])\n",
    "\n",
    "# Print results\n",
    "with np.printoptions(precision=DEFAULT_PRECISION):\n",
    "    print(f\"Two-Sided Odds Ratios:\\n{results_table[:, :, 0]}\")\n",
    "    print(f\"Two-Sided P-values:\\n{results_table[:, :, 1]}\")\n",
    "\n",
    "# Test interpretation\n",
    "reject = results_table[:, :, 1] < ALPHA\n",
    "print(f\"Whether or not H_0 can be rejected, sorted by pairs of classes:\\n{reject}\")"
   ]
  },
  {
   "cell_type": "markdown",
   "metadata": {},
   "source": [
    "#### One-Sided"
   ]
  },
  {
   "cell_type": "code",
   "execution_count": 7,
   "metadata": {},
   "outputs": [
    {
     "name": "stdout",
     "output_type": "stream",
     "text": [
      "One-Sided Odds Ratios:\n",
      "[[0.   0.53 0.19]\n",
      " [1.9  0.   0.36]\n",
      " [5.31 2.8  0.  ]]\n",
      "One-Sided P-values:\n",
      "[[0.00e+00 9.99e-01 1.00e+00]\n",
      " [1.15e-03 0.00e+00 1.00e+00]\n",
      " [1.38e-22 1.18e-08 0.00e+00]]\n",
      "Whether or not H_0 can be rejected, sorted by pairs of classes:\n",
      "[[ True False False]\n",
      " [ True  True False]\n",
      " [ True  True  True]]\n"
     ]
    }
   ],
   "source": [
    "# Since Fisher's Exact Test is designed for 2x2 tables, we split the analysis into pairs of classes\n",
    "results_table = np.zeros(\n",
    "    (\n",
    "        survival_rate_by_class.index.max(),\n",
    "        survival_rate_by_class.index.max(),\n",
    "        2\n",
    "    )\n",
    ")\n",
    "# Iterate over all pairs of classes\n",
    "for i in range(0, results_table.shape[0]):\n",
    "    for j in range(0, results_table.shape[1]):\n",
    "        if i != j:\n",
    "            # odds_ratio, p_value\n",
    "            results_table[i, j] = fisher_exact(\n",
    "                survival_rate_by_class.iloc[[i, j]],\n",
    "                alternative=\"greater\"\n",
    "            )\n",
    "\n",
    "# Print results\n",
    "with np.printoptions(precision=DEFAULT_PRECISION):\n",
    "    print(f\"One-Sided Odds Ratios:\\n{results_table[:, :, 0]}\")\n",
    "    print(f\"One-Sided P-values:\\n{results_table[:, :, 1]}\")\n",
    "\n",
    "# Test interpretation\n",
    "reject = results_table[:, :, 1] < ALPHA\n",
    "print(\n",
    "    f\"Whether or not H_0 can be rejected, sorted by pairs of classes:\\n{reject}\")"
   ]
  },
  {
   "cell_type": "markdown",
   "metadata": {},
   "source": [
    "### Logistic Regression as a Statistical Test"
   ]
  },
  {
   "cell_type": "code",
   "execution_count": 8,
   "metadata": {},
   "outputs": [
    {
     "name": "stdout",
     "output_type": "stream",
     "text": [
      "Optimization terminated successfully.\n",
      "         Current function value: 0.637135\n",
      "         Iterations 4\n",
      "p-value: 7.25e-22\n",
      "H_0 can be rejected.\n"
     ]
    },
    {
     "data": {
      "text/html": [
       "<table class=\"simpletable\">\n",
       "<caption>Logit Regression Results</caption>\n",
       "<tr>\n",
       "  <th>Dep. Variable:</th>       <td>Survived</td>     <th>  No. Observations:  </th>  <td>   891</td> \n",
       "</tr>\n",
       "<tr>\n",
       "  <th>Model:</th>                 <td>Logit</td>      <th>  Df Residuals:      </th>  <td>   890</td> \n",
       "</tr>\n",
       "<tr>\n",
       "  <th>Method:</th>                 <td>MLE</td>       <th>  Df Model:          </th>  <td>     0</td> \n",
       "</tr>\n",
       "<tr>\n",
       "  <th>Date:</th>            <td>Sat, 05 Oct 2024</td> <th>  Pseudo R-squ.:     </th>  <td>0.04321</td>\n",
       "</tr>\n",
       "<tr>\n",
       "  <th>Time:</th>                <td>19:21:56</td>     <th>  Log-Likelihood:    </th> <td> -567.69</td>\n",
       "</tr>\n",
       "<tr>\n",
       "  <th>converged:</th>             <td>True</td>       <th>  LL-Null:           </th> <td> -593.33</td>\n",
       "</tr>\n",
       "<tr>\n",
       "  <th>Covariance Type:</th>     <td>nonrobust</td>    <th>  LLR p-value:       </th>  <td>   nan</td> \n",
       "</tr>\n",
       "</table>\n",
       "<table class=\"simpletable\">\n",
       "<tr>\n",
       "     <td></td>       <th>coef</th>     <th>std err</th>      <th>z</th>      <th>P>|z|</th>  <th>[0.025</th>    <th>0.975]</th>  \n",
       "</tr>\n",
       "<tr>\n",
       "  <th>Pclass</th> <td>   -0.2834</td> <td>    0.029</td> <td>   -9.610</td> <td> 0.000</td> <td>   -0.341</td> <td>   -0.226</td>\n",
       "</tr>\n",
       "</table>"
      ],
      "text/latex": [
       "\\begin{center}\n",
       "\\begin{tabular}{lclc}\n",
       "\\toprule\n",
       "\\textbf{Dep. Variable:}   &     Survived     & \\textbf{  No. Observations:  } &      891    \\\\\n",
       "\\textbf{Model:}           &      Logit       & \\textbf{  Df Residuals:      } &      890    \\\\\n",
       "\\textbf{Method:}          &       MLE        & \\textbf{  Df Model:          } &        0    \\\\\n",
       "\\textbf{Date:}            & Sat, 05 Oct 2024 & \\textbf{  Pseudo R-squ.:     } &  0.04321    \\\\\n",
       "\\textbf{Time:}            &     19:21:56     & \\textbf{  Log-Likelihood:    } &   -567.69   \\\\\n",
       "\\textbf{converged:}       &       True       & \\textbf{  LL-Null:           } &   -593.33   \\\\\n",
       "\\textbf{Covariance Type:} &    nonrobust     & \\textbf{  LLR p-value:       } &      nan    \\\\\n",
       "\\bottomrule\n",
       "\\end{tabular}\n",
       "\\begin{tabular}{lcccccc}\n",
       "                & \\textbf{coef} & \\textbf{std err} & \\textbf{z} & \\textbf{P$> |$z$|$} & \\textbf{[0.025} & \\textbf{0.975]}  \\\\\n",
       "\\midrule\n",
       "\\textbf{Pclass} &      -0.2834  &        0.029     &    -9.610  &         0.000        &       -0.341    &       -0.226     \\\\\n",
       "\\bottomrule\n",
       "\\end{tabular}\n",
       "%\\caption{Logit Regression Results}\n",
       "\\end{center}"
      ],
      "text/plain": [
       "<class 'statsmodels.iolib.summary.Summary'>\n",
       "\"\"\"\n",
       "                           Logit Regression Results                           \n",
       "==============================================================================\n",
       "Dep. Variable:               Survived   No. Observations:                  891\n",
       "Model:                          Logit   Df Residuals:                      890\n",
       "Method:                           MLE   Df Model:                            0\n",
       "Date:                Sat, 05 Oct 2024   Pseudo R-squ.:                 0.04321\n",
       "Time:                        19:21:56   Log-Likelihood:                -567.69\n",
       "converged:                       True   LL-Null:                       -593.33\n",
       "Covariance Type:            nonrobust   LLR p-value:                       nan\n",
       "==============================================================================\n",
       "                 coef    std err          z      P>|z|      [0.025      0.975]\n",
       "------------------------------------------------------------------------------\n",
       "Pclass        -0.2834      0.029     -9.610      0.000      -0.341      -0.226\n",
       "==============================================================================\n",
       "\"\"\""
      ]
     },
     "execution_count": 8,
     "metadata": {},
     "output_type": "execute_result"
    }
   ],
   "source": [
    "# Create and fit the logistic regression model\n",
    "model = Logit(\n",
    "    df[\"Survived\"].copy(),\n",
    "    df[\"Pclass\"].copy()\n",
    ").fit()\n",
    "\n",
    "# Print p-values\n",
    "p_value = model.pvalues.iloc[0]\n",
    "print(f\"p-value: {p_value:.{DEFAULT_PRECISION}e}\")\n",
    "\n",
    "# Test interpretation\n",
    "if p_value < ALPHA:\n",
    "    print(\"H_0 can be rejected.\")\n",
    "else:\n",
    "    print(\"H_0 cannot be rejected.\")\n",
    "\n",
    "model.summary()"
   ]
  },
  {
   "cell_type": "markdown",
   "metadata": {},
   "source": [
    "### Test in the Case of Dependent Samples"
   ]
  },
  {
   "cell_type": "markdown",
   "metadata": {},
   "source": [
    "#### Generalised Estimating Equations (GEE)\n"
   ]
  },
  {
   "cell_type": "code",
   "execution_count": 9,
   "metadata": {},
   "outputs": [
    {
     "name": "stdout",
     "output_type": "stream",
     "text": [
      "p-value: 4.64e-03\n",
      "H_0 can be rejected.\n"
     ]
    },
    {
     "data": {
      "text/html": [
       "<table class=\"simpletable\">\n",
       "<caption>GEE Regression Results</caption>\n",
       "<tr>\n",
       "  <th>Dep. Variable:</th>              <td>Survived</td>       <th>  No. Observations:  </th>    <td>891</td>  \n",
       "</tr>\n",
       "<tr>\n",
       "  <th>Model:</th>                         <td>GEE</td>         <th>  No. clusters:      </th>     <td>3</td>   \n",
       "</tr>\n",
       "<tr>\n",
       "  <th>Method:</th>                    <td>Generalized</td>     <th>  Min. cluster size: </th>    <td>184</td>  \n",
       "</tr>\n",
       "<tr>\n",
       "  <th></th>                      <td>Estimating Equations</td> <th>  Max. cluster size: </th>    <td>491</td>  \n",
       "</tr>\n",
       "<tr>\n",
       "  <th>Family:</th>                     <td>Gaussian</td>       <th>  Mean cluster size: </th>   <td>297.0</td> \n",
       "</tr>\n",
       "<tr>\n",
       "  <th>Dependence structure:</th>     <td>Independence</td>     <th>  Num. iterations:   </th>     <td>2</td>   \n",
       "</tr>\n",
       "<tr>\n",
       "  <th>Date:</th>                   <td>Sat, 05 Oct 2024</td>   <th>  Scale:             </th>   <td>0.291</td> \n",
       "</tr>\n",
       "<tr>\n",
       "  <th>Covariance type: </th>            <td>robust</td>        <th>  Time:              </th> <td>19:21:56</td>\n",
       "</tr>\n",
       "</table>\n",
       "<table class=\"simpletable\">\n",
       "<tr>\n",
       "     <td></td>       <th>coef</th>     <th>std err</th>      <th>z</th>      <th>P>|z|</th>  <th>[0.025</th>    <th>0.975]</th>  \n",
       "</tr>\n",
       "<tr>\n",
       "  <th>Pclass</th> <td>    0.1242</td> <td>    0.044</td> <td>    2.831</td> <td> 0.005</td> <td>    0.038</td> <td>    0.210</td>\n",
       "</tr>\n",
       "</table>\n",
       "<table class=\"simpletable\">\n",
       "<tr>\n",
       "  <th>Skew:</th>          <td>      0.4731</td> <th>  Kurtosis:          </th> <td>     -1.6531</td>\n",
       "</tr>\n",
       "<tr>\n",
       "  <th>Centered skew:</th> <td>      0.4210</td> <th>  Centered kurtosis: </th> <td>     -1.2768</td>\n",
       "</tr>\n",
       "</table>"
      ],
      "text/latex": [
       "\\begin{center}\n",
       "\\begin{tabular}{lclc}\n",
       "\\toprule\n",
       "\\textbf{Dep. Variable:}        &       Survived       & \\textbf{  No. Observations:  } &     891       \\\\\n",
       "\\textbf{Model:}                &         GEE          & \\textbf{  No. clusters:      } &      3        \\\\\n",
       "\\textbf{Method:}               &     Generalized      & \\textbf{  Min. cluster size: } &     184       \\\\\n",
       "\\textbf{}                      & Estimating Equations & \\textbf{  Max. cluster size: } &     491       \\\\\n",
       "\\textbf{Family:}               &       Gaussian       & \\textbf{  Mean cluster size: } &    297.0      \\\\\n",
       "\\textbf{Dependence structure:} &     Independence     & \\textbf{  Num. iterations:   } &      2        \\\\\n",
       "\\textbf{Date:}                 &   Sat, 05 Oct 2024   & \\textbf{  Scale:             } &    0.291      \\\\\n",
       "\\textbf{Covariance type: }     &        robust        & \\textbf{  Time:              } &   19:21:56    \\\\\n",
       "\\bottomrule\n",
       "\\end{tabular}\n",
       "\\begin{tabular}{lcccccc}\n",
       "                & \\textbf{coef} & \\textbf{std err} & \\textbf{z} & \\textbf{P$> |$z$|$} & \\textbf{[0.025} & \\textbf{0.975]}  \\\\\n",
       "\\midrule\n",
       "\\textbf{Pclass} &       0.1242  &        0.044     &     2.831  &         0.005        &        0.038    &        0.210     \\\\\n",
       "\\bottomrule\n",
       "\\end{tabular}\n",
       "\\begin{tabular}{lclc}\n",
       "\\textbf{Skew:}          &       0.4731 & \\textbf{  Kurtosis:          } &      -1.6531  \\\\\n",
       "\\textbf{Centered skew:} &       0.4210 & \\textbf{  Centered kurtosis: } &      -1.2768  \\\\\n",
       "\\bottomrule\n",
       "\\end{tabular}\n",
       "%\\caption{GEE Regression Results}\n",
       "\\end{center}"
      ],
      "text/plain": [
       "<class 'statsmodels.iolib.summary.Summary'>\n",
       "\"\"\"\n",
       "                               GEE Regression Results                              \n",
       "===================================================================================\n",
       "Dep. Variable:                    Survived   No. Observations:                  891\n",
       "Model:                                 GEE   No. clusters:                        3\n",
       "Method:                        Generalized   Min. cluster size:                 184\n",
       "                      Estimating Equations   Max. cluster size:                 491\n",
       "Family:                           Gaussian   Mean cluster size:               297.0\n",
       "Dependence structure:         Independence   Num. iterations:                     2\n",
       "Date:                     Sat, 05 Oct 2024   Scale:                           0.291\n",
       "Covariance type:                    robust   Time:                         19:21:56\n",
       "==============================================================================\n",
       "                 coef    std err          z      P>|z|      [0.025      0.975]\n",
       "------------------------------------------------------------------------------\n",
       "Pclass         0.1242      0.044      2.831      0.005       0.038       0.210\n",
       "==============================================================================\n",
       "Skew:                          0.4731   Kurtosis:                      -1.6531\n",
       "Centered skew:                 0.4210   Centered kurtosis:             -1.2768\n",
       "==============================================================================\n",
       "\"\"\""
      ]
     },
     "execution_count": 9,
     "metadata": {},
     "output_type": "execute_result"
    }
   ],
   "source": [
    "# Create and fit the GEE model\n",
    "model = GEE(\n",
    "    df[\"Survived\"].copy(),\n",
    "    df[\"Pclass\"].copy(),\n",
    "    groups=df[\"Pclass\"].copy()\n",
    ").fit()\n",
    "\n",
    "# Print p-values\n",
    "p_value = model.pvalues.iloc[0]\n",
    "print(f\"p-value: {p_value:.{DEFAULT_PRECISION}e}\")\n",
    "\n",
    "# Test interpretation\n",
    "if p_value < ALPHA:\n",
    "    print(\"H_0 can be rejected.\")\n",
    "else:\n",
    "    print(\"H_0 cannot be rejected.\")\n",
    "    \n",
    "model.summary()"
   ]
  },
  {
   "cell_type": "markdown",
   "metadata": {},
   "source": [
    "#### Logistic Regression with Clustered Standard Errors\n"
   ]
  },
  {
   "cell_type": "code",
   "execution_count": 10,
   "metadata": {},
   "outputs": [
    {
     "name": "stdout",
     "output_type": "stream",
     "text": [
      "Optimization terminated successfully.\n",
      "         Current function value: 0.637135\n",
      "         Iterations 4\n",
      "p-value: 9.71e-03\n",
      "H_0 can be rejected.\n"
     ]
    },
    {
     "data": {
      "text/html": [
       "<table class=\"simpletable\">\n",
       "<caption>Logit Regression Results</caption>\n",
       "<tr>\n",
       "  <th>Dep. Variable:</th>       <td>Survived</td>     <th>  No. Observations:  </th>  <td>   891</td> \n",
       "</tr>\n",
       "<tr>\n",
       "  <th>Model:</th>                 <td>Logit</td>      <th>  Df Residuals:      </th>  <td>   890</td> \n",
       "</tr>\n",
       "<tr>\n",
       "  <th>Method:</th>                 <td>MLE</td>       <th>  Df Model:          </th>  <td>     0</td> \n",
       "</tr>\n",
       "<tr>\n",
       "  <th>Date:</th>            <td>Sat, 05 Oct 2024</td> <th>  Pseudo R-squ.:     </th>  <td>0.04321</td>\n",
       "</tr>\n",
       "<tr>\n",
       "  <th>Time:</th>                <td>19:21:56</td>     <th>  Log-Likelihood:    </th> <td> -567.69</td>\n",
       "</tr>\n",
       "<tr>\n",
       "  <th>converged:</th>             <td>True</td>       <th>  LL-Null:           </th> <td> -593.33</td>\n",
       "</tr>\n",
       "<tr>\n",
       "  <th>Covariance Type:</th>      <td>cluster</td>     <th>  LLR p-value:       </th>  <td>   nan</td> \n",
       "</tr>\n",
       "</table>\n",
       "<table class=\"simpletable\">\n",
       "<tr>\n",
       "     <td></td>       <th>coef</th>     <th>std err</th>      <th>z</th>      <th>P>|z|</th>  <th>[0.025</th>    <th>0.975]</th>  \n",
       "</tr>\n",
       "<tr>\n",
       "  <th>Pclass</th> <td>   -0.2834</td> <td>    0.110</td> <td>   -2.586</td> <td> 0.010</td> <td>   -0.498</td> <td>   -0.069</td>\n",
       "</tr>\n",
       "</table>"
      ],
      "text/latex": [
       "\\begin{center}\n",
       "\\begin{tabular}{lclc}\n",
       "\\toprule\n",
       "\\textbf{Dep. Variable:}   &     Survived     & \\textbf{  No. Observations:  } &      891    \\\\\n",
       "\\textbf{Model:}           &      Logit       & \\textbf{  Df Residuals:      } &      890    \\\\\n",
       "\\textbf{Method:}          &       MLE        & \\textbf{  Df Model:          } &        0    \\\\\n",
       "\\textbf{Date:}            & Sat, 05 Oct 2024 & \\textbf{  Pseudo R-squ.:     } &  0.04321    \\\\\n",
       "\\textbf{Time:}            &     19:21:56     & \\textbf{  Log-Likelihood:    } &   -567.69   \\\\\n",
       "\\textbf{converged:}       &       True       & \\textbf{  LL-Null:           } &   -593.33   \\\\\n",
       "\\textbf{Covariance Type:} &     cluster      & \\textbf{  LLR p-value:       } &      nan    \\\\\n",
       "\\bottomrule\n",
       "\\end{tabular}\n",
       "\\begin{tabular}{lcccccc}\n",
       "                & \\textbf{coef} & \\textbf{std err} & \\textbf{z} & \\textbf{P$> |$z$|$} & \\textbf{[0.025} & \\textbf{0.975]}  \\\\\n",
       "\\midrule\n",
       "\\textbf{Pclass} &      -0.2834  &        0.110     &    -2.586  &         0.010        &       -0.498    &       -0.069     \\\\\n",
       "\\bottomrule\n",
       "\\end{tabular}\n",
       "%\\caption{Logit Regression Results}\n",
       "\\end{center}"
      ],
      "text/plain": [
       "<class 'statsmodels.iolib.summary.Summary'>\n",
       "\"\"\"\n",
       "                           Logit Regression Results                           \n",
       "==============================================================================\n",
       "Dep. Variable:               Survived   No. Observations:                  891\n",
       "Model:                          Logit   Df Residuals:                      890\n",
       "Method:                           MLE   Df Model:                            0\n",
       "Date:                Sat, 05 Oct 2024   Pseudo R-squ.:                 0.04321\n",
       "Time:                        19:21:56   Log-Likelihood:                -567.69\n",
       "converged:                       True   LL-Null:                       -593.33\n",
       "Covariance Type:              cluster   LLR p-value:                       nan\n",
       "==============================================================================\n",
       "                 coef    std err          z      P>|z|      [0.025      0.975]\n",
       "------------------------------------------------------------------------------\n",
       "Pclass        -0.2834      0.110     -2.586      0.010      -0.498      -0.069\n",
       "==============================================================================\n",
       "\"\"\""
      ]
     },
     "execution_count": 10,
     "metadata": {},
     "output_type": "execute_result"
    }
   ],
   "source": [
    "# Create and fit the logistic regression model\n",
    "model = Logit(\n",
    "    df[\"Survived\"].copy(),\n",
    "    df[\"Pclass\"].copy()\n",
    ").fit(\n",
    "    cov_type=\"cluster\",\n",
    "    cov_kwds={\n",
    "        \"groups\": df[\"Pclass\"].copy()\n",
    "    }\n",
    ")\n",
    "\n",
    "# Print p-values\n",
    "p_value = model.pvalues.iloc[0]\n",
    "print(f\"p-value: {p_value:.{DEFAULT_PRECISION}e}\")\n",
    "\n",
    "# Test interpretation\n",
    "if p_value < ALPHA:\n",
    "    print(\"H_0 can be rejected.\")\n",
    "else:\n",
    "    print(\"H_0 cannot be rejected.\")\n",
    "\n",
    "model.summary()"
   ]
  },
  {
   "cell_type": "markdown",
   "metadata": {},
   "source": [
    "#### Permutation Test\n"
   ]
  },
  {
   "cell_type": "markdown",
   "metadata": {},
   "source": [
    "##### Two-Sided"
   ]
  },
  {
   "cell_type": "code",
   "execution_count": 11,
   "metadata": {},
   "outputs": [
    {
     "name": "stdout",
     "output_type": "stream",
     "text": [
      "Two-Sided Statistics: [ 0.32444444  0.11214716 -0.31513747]\n",
      "Two-Sided P-values: [0.001998   0.01398601 0.001998  ]\n",
      "H_0 can be rejected.\n"
     ]
    }
   ],
   "source": [
    "N_PERMUTATIONS = 1000\n",
    "results_table = np.zeros((df[\"Pclass\"].max(), 2))\n",
    "\n",
    "# Iterate over all classes\n",
    "for class_idx in df[\"Pclass\"].unique():\n",
    "    # Split the data into the class of interest\n",
    "    class_survival = df[df[\"Pclass\"] == class_idx][\"Survived\"]\n",
    "    non_class_survival = df[df[\"Pclass\"] != class_idx][\"Survived\"]\n",
    "    # Perform permuation test\n",
    "    result = permutation_test(\n",
    "        data=(class_survival, non_class_survival),\n",
    "        statistic=lambda c, nc: np.mean(c) - np.mean(nc),\n",
    "        permutation_type=\"independent\",\n",
    "        n_resamples=N_PERMUTATIONS,\n",
    "        alternative=\"two-sided\"\n",
    "    )\n",
    "    results_table[class_idx - 1] = result.statistic, result.pvalue\n",
    "\n",
    "# Print results\n",
    "print(f\"Two-Sided Statistics: {results_table[..., 0]}\")\n",
    "print(f\"Two-Sided P-values: {results_table[..., 1]}\")\n",
    "\n",
    "# Test interpretation\n",
    "if np.all(results_table[..., 1] < ALPHA):\n",
    "    print(\"H_0 can be rejected.\")\n",
    "else:\n",
    "    print(\"H_0 cannot be rejected.\")"
   ]
  },
  {
   "cell_type": "markdown",
   "metadata": {},
   "source": [
    "##### One-Sided"
   ]
  },
  {
   "cell_type": "code",
   "execution_count": 12,
   "metadata": {},
   "outputs": [
    {
     "name": "stdout",
     "output_type": "stream",
     "text": [
      "One-Sided Statistics: [ 0.32444444  0.11214716 -0.31513747]\n",
      "One-Sided P-values: [9.99000999e-04 7.99200799e-03 1.00000000e+00]\n",
      "H_0 cannot be rejected.\n"
     ]
    }
   ],
   "source": [
    "N_PERMUTATIONS = 1000\n",
    "results_table = np.zeros((df[\"Pclass\"].max(), 2))\n",
    "\n",
    "# Iterate over all classes\n",
    "for class_idx in df[\"Pclass\"].unique():\n",
    "    # Split the data into the class of interest\n",
    "    class_survival = df[df[\"Pclass\"] == class_idx][\"Survived\"]\n",
    "    non_class_survival = df[df[\"Pclass\"] != class_idx][\"Survived\"]\n",
    "    # Perform permuation test\n",
    "    result = permutation_test(\n",
    "        data=(class_survival, non_class_survival),\n",
    "        statistic=lambda c, nc: np.mean(c) - np.mean(nc),\n",
    "        permutation_type=\"independent\",\n",
    "        n_resamples=N_PERMUTATIONS,\n",
    "        alternative=\"greater\"\n",
    "    )\n",
    "    results_table[class_idx - 1] = result.statistic, result.pvalue\n",
    "\n",
    "# Print results\n",
    "print(f\"One-Sided Statistics: {results_table[..., 0]}\")\n",
    "print(f\"One-Sided P-values: {results_table[..., 1]}\")\n",
    "\n",
    "# Test interpretation\n",
    "if np.all(results_table[..., 1] < ALPHA):\n",
    "    print(\"H_0 can be rejected.\")\n",
    "else:\n",
    "    print(\"H_0 cannot be rejected.\")"
   ]
  },
  {
   "cell_type": "markdown",
   "metadata": {},
   "source": [
    "## People Count per Class"
   ]
  },
  {
   "cell_type": "markdown",
   "metadata": {},
   "source": [
    "### People Count per Class (raw)"
   ]
  },
  {
   "cell_type": "code",
   "execution_count": 13,
   "metadata": {},
   "outputs": [
    {
     "data": {
      "image/png": "[encoded data removed]",
      "text/plain": [
       "<Figure size 640x480 with 1 Axes>"
      ]
     },
     "metadata": {},
     "output_type": "display_data"
    }
   ],
   "source": [
    "# Calculate the count of each passenger class\n",
    "people_per_class = df[\"Pclass\"].value_counts().sort_index()\n",
    "\n",
    "# Plot the count of each passenger class\n",
    "people_per_class.plot(\n",
    "    kind=\"bar\",\n",
    "    xlabel=\"Passenger Class\",\n",
    "    ylabel=\"Count\",\n",
    "    color=COLOURS[\"mid_blue\"]\n",
    ")\n",
    "# Rotate x-axis labels\n",
    "plt.xticks(rotation=0)\n",
    "\n",
    "# Save the plot as a PDF file\n",
    "plt.tight_layout()\n",
    "plt.savefig(\"figures/class_raw.pdf\", bbox_inches=\"tight\")\n",
    "plt.savefig(\"figures/class_raw.pgf\", bbox_inches=\"tight\")"
   ]
  },
  {
   "cell_type": "markdown",
   "metadata": {},
   "source": [
    "### People Count per Class (normalised)"
   ]
  },
  {
   "cell_type": "code",
   "execution_count": 14,
   "metadata": {},
   "outputs": [
    {
     "data": {
      "image/png": "[encoded data removed]",
      "text/plain": [
       "<Figure size 640x480 with 1 Axes>"
      ]
     },
     "metadata": {},
     "output_type": "display_data"
    }
   ],
   "source": [
    "# Calculate the rate of each passenger class\n",
    "people_per_class = df[\"Pclass\"].value_counts(normalize=True).sort_index()\n",
    "\n",
    "# Plot the rate of each passenger class\n",
    "people_per_class.plot(\n",
    "    kind=\"bar\",\n",
    "    xlabel=\"Passenger Class\",\n",
    "    ylabel=\"Proportion\",\n",
    "    color=COLOURS[\"mid_blue\"]\n",
    ")\n",
    "# Rotate x-axis labels\n",
    "plt.xticks(rotation=0)\n",
    "# Change y-labels to percentages\n",
    "y_ticks = [f\"{y:.0%}\" for y in plt.yticks()[0]]\n",
    "plt.yticks(plt.yticks()[0], y_ticks)\n",
    "\n",
    "# Save the plot as a PDF file\n",
    "plt.tight_layout()\n",
    "plt.savefig(\"figures/class_normalised.pdf\", bbox_inches=\"tight\")\n",
    "plt.savefig(\"figures/class_normalised.pgf\", bbox_inches=\"tight\")"
   ]
  },
  {
   "cell_type": "markdown",
   "metadata": {},
   "source": [
    "## Survival Rate by Class"
   ]
  },
  {
   "cell_type": "markdown",
   "metadata": {},
   "source": [
    "### Survival rate by class (raw)"
   ]
  },
  {
   "cell_type": "code",
   "execution_count": 15,
   "metadata": {},
   "outputs": [
    {
     "data": {
      "text/html": [
       "<div>\n",
       "<style scoped>\n",
       "    .dataframe tbody tr th:only-of-type {\n",
       "        vertical-align: middle;\n",
       "    }\n",
       "\n",
       "    .dataframe tbody tr th {\n",
       "        vertical-align: top;\n",
       "    }\n",
       "\n",
       "    .dataframe thead th {\n",
       "        text-align: right;\n",
       "    }\n",
       "</style>\n",
       "<table border=\"1\" class=\"dataframe\">\n",
       "  <thead>\n",
       "    <tr style=\"text-align: right;\">\n",
       "      <th>Survived</th>\n",
       "      <th>False</th>\n",
       "      <th>True</th>\n",
       "    </tr>\n",
       "    <tr>\n",
       "      <th>Pclass</th>\n",
       "      <th></th>\n",
       "      <th></th>\n",
       "    </tr>\n",
       "  </thead>\n",
       "  <tbody>\n",
       "    <tr>\n",
       "      <th>1</th>\n",
       "      <td>80</td>\n",
       "      <td>136</td>\n",
       "    </tr>\n",
       "    <tr>\n",
       "      <th>2</th>\n",
       "      <td>97</td>\n",
       "      <td>87</td>\n",
       "    </tr>\n",
       "    <tr>\n",
       "      <th>3</th>\n",
       "      <td>372</td>\n",
       "      <td>119</td>\n",
       "    </tr>\n",
       "  </tbody>\n",
       "</table>\n",
       "</div>"
      ],
      "text/plain": [
       "Survived  False  True \n",
       "Pclass                \n",
       "1            80    136\n",
       "2            97     87\n",
       "3           372    119"
      ]
     },
     "execution_count": 15,
     "metadata": {},
     "output_type": "execute_result"
    }
   ],
   "source": [
    "survival_rate_by_class = pd.crosstab(df[\"Pclass\"], df[\"Survived\"])\n",
    "styler = survival_rate_by_class.style\n",
    "# Format the indices of the styler object with bold text using LaTeX formatting\n",
    "styler.format_index(\"\\\\textbf{{{}}}\", axis=0, escape=\"latex\")\n",
    "styler.format_index(\"\\\\textbf{{{}}}\", axis=1, escape=\"latex\")\n",
    "# Convert the styler object to LaTeX and save it as a table in a .tex file\n",
    "styler.to_latex(\"tables/survival-class_raw.tex\", hrules=True)\n",
    "# Display the survival rate by class dataframe\n",
    "survival_rate_by_class"
   ]
  },
  {
   "cell_type": "code",
   "execution_count": 16,
   "metadata": {},
   "outputs": [
    {
     "data": {
      "image/png": "[encoded data removed]",
      "text/plain": [
       "<Figure size 640x480 with 1 Axes>"
      ]
     },
     "metadata": {},
     "output_type": "display_data"
    }
   ],
   "source": [
    "# Plot the survival rate by class (raw)\n",
    "survival_rate_by_class.plot(\n",
    "    xlabel=\"Passenger Class\",\n",
    "    ylabel=\"Count\",\n",
    "    kind=\"bar\",\n",
    "    stacked=False,\n",
    "    color=[COLOURS[\"red\"], COLOURS[\"green\"]]\n",
    ")\n",
    "# Rotate x-axis labels\n",
    "plt.xticks(rotation=0)\n",
    "# Save the plot as a PDF file\n",
    "plt.tight_layout()\n",
    "plt.savefig(\"figures/survival-class_raw.pdf\", bbox_inches=\"tight\")\n",
    "plt.savefig(\"figures/survival-class_raw.pgf\", bbox_inches=\"tight\")"
   ]
  },
  {
   "cell_type": "markdown",
   "metadata": {},
   "source": [
    "### Survival rate by class (normalised)"
   ]
  },
  {
   "cell_type": "code",
   "execution_count": 17,
   "metadata": {},
   "outputs": [
    {
     "data": {
      "text/html": [
       "<div>\n",
       "<style scoped>\n",
       "    .dataframe tbody tr th:only-of-type {\n",
       "        vertical-align: middle;\n",
       "    }\n",
       "\n",
       "    .dataframe tbody tr th {\n",
       "        vertical-align: top;\n",
       "    }\n",
       "\n",
       "    .dataframe thead th {\n",
       "        text-align: right;\n",
       "    }\n",
       "</style>\n",
       "<table border=\"1\" class=\"dataframe\">\n",
       "  <thead>\n",
       "    <tr style=\"text-align: right;\">\n",
       "      <th>Survived</th>\n",
       "      <th>False</th>\n",
       "      <th>True</th>\n",
       "    </tr>\n",
       "    <tr>\n",
       "      <th>Pclass</th>\n",
       "      <th></th>\n",
       "      <th></th>\n",
       "    </tr>\n",
       "  </thead>\n",
       "  <tbody>\n",
       "    <tr>\n",
       "      <th>1</th>\n",
       "      <td>0.370370</td>\n",
       "      <td>0.629630</td>\n",
       "    </tr>\n",
       "    <tr>\n",
       "      <th>2</th>\n",
       "      <td>0.527174</td>\n",
       "      <td>0.472826</td>\n",
       "    </tr>\n",
       "    <tr>\n",
       "      <th>3</th>\n",
       "      <td>0.757637</td>\n",
       "      <td>0.242363</td>\n",
       "    </tr>\n",
       "  </tbody>\n",
       "</table>\n",
       "</div>"
      ],
      "text/plain": [
       "Survived     False     True \n",
       "Pclass                      \n",
       "1         0.370370  0.629630\n",
       "2         0.527174  0.472826\n",
       "3         0.757637  0.242363"
      ]
     },
     "execution_count": 17,
     "metadata": {},
     "output_type": "execute_result"
    }
   ],
   "source": [
    "# Calculate the survival rate by class\n",
    "survival_rate_by_class = pd.crosstab(df[\"Pclass\"], df[\"Survived\"], normalize=\"index\")\n",
    "\n",
    "# Apply formatting to the DataFrame for styling\n",
    "styler = survival_rate_by_class.style\n",
    "styler.format_index(\"\\\\textbf{{{}}}\", axis=0, escape=\"latex\")\n",
    "styler.format_index(\"\\\\textbf{{{}}}\", axis=1, escape=\"latex\")\n",
    "styler.format(\n",
    "    subset=None,\n",
    "    formatter=lambda x: f\"{100*x:.{DEFAULT_PRECISION}f}\"+\"\\%\"\n",
    ")\n",
    "# Convert the styled DataFrame to LaTeX and save it as a table in a .tex file\n",
    "styler.to_latex(\"tables/survival-class_normalised.tex\", hrules=True)\n",
    "# Display the survival rate by class DataFrame\n",
    "survival_rate_by_class"
   ]
  },
  {
   "cell_type": "code",
   "execution_count": 18,
   "metadata": {},
   "outputs": [
    {
     "data": {
      "image/png": "[encoded data removed]",
      "text/plain": [
       "<Figure size 640x480 with 1 Axes>"
      ]
     },
     "metadata": {},
     "output_type": "display_data"
    }
   ],
   "source": [
    "# Plot the survival rate by class (normalised)\n",
    "survival_rate_by_class.plot(\n",
    "    xlabel=\"Passenger Class\",\n",
    "    ylabel=\"Rate\",\n",
    "    kind=\"bar\",\n",
    "    stacked=False,\n",
    "    color=[COLOURS[\"red\"], COLOURS[\"green\"]]\n",
    ")\n",
    "# Change y-labels to percentages\n",
    "y_ticks = [f\"{y:.0%}\" for y in plt.yticks()[0]]\n",
    "plt.yticks(plt.yticks()[0], y_ticks)\n",
    "# Rotate x-axis labels\n",
    "plt.xticks(rotation=0)\n",
    "# Save the plot as a PDF file\n",
    "plt.tight_layout()\n",
    "plt.savefig(\"figures/survival-class_normalised.pdf\", bbox_inches=\"tight\")\n",
    "plt.savefig(\"figures/survival-class_normalised.pgf\", bbox_inches=\"tight\")"
   ]
  }
 ],
 "metadata": {
  "kernelspec": {
   "display_name": "base",
   "language": "python",
   "name": "python3"
  },
  "language_info": {
   "codemirror_mode": {
    "name": "ipython",
    "version": 3
   },
   "file_extension": ".py",
   "mimetype": "text/x-python",
   "name": "python",
   "nbconvert_exporter": "python",
   "pygments_lexer": "ipython3",
   "version": "3.11.9"
  }
 },
 "nbformat": 4,
 "nbformat_minor": 2
}
