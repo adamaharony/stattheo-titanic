{
 "cells": [
  {
   "cell_type": "markdown",
   "metadata": {},
   "source": [
    "Statistical Theory --- Final Project\n",
    "---\n",
    "**Family-based Question Notebook**\n",
    "\n",
    "By Adam Aharony and Adva Davidof."
   ]
  },
  {
   "cell_type": "code",
   "execution_count": 1,
   "metadata": {},
   "outputs": [],
   "source": [
    "import pandas as pd\n",
    "import numpy as np\n",
    "from matplotlib import pyplot as plt\n",
    "import seaborn as sns"
   ]
  },
  {
   "cell_type": "code",
   "execution_count": 2,
   "metadata": {},
   "outputs": [],
   "source": [
    "# Reading dataset from csv\n",
    "df = pd.read_csv(\"titanic.csv\")\n",
    "# Dropping unnecessary columns\n",
    "df.drop(\n",
    "    columns=[\n",
    "        \"PassengerId\",\n",
    "        \"Name\",\n",
    "        \"Ticket\",\n",
    "        \"Cabin\",\n",
    "        \"Embarked\"\n",
    "    ],\n",
    "    inplace=True\n",
    ")\n",
    "\n",
    "# Desired data type for certain columns\n",
    "types = {\n",
    "    \"Survived\": \"bool\",\n",
    "    \"Pclass\": \"int8\",\n",
    "    \"SibSp\": \"int8\",\n",
    "    \"Parch\": \"int8\",\n",
    "}\n",
    "for column, dtype in types.items():\n",
    "    df[column] = df[column].astype(dtype)\n",
    "\n",
    "# New 'additional family' feature\n",
    "df[\"Family\"] = df[\"SibSp\"] + df[\"Parch\"]"
   ]
  },
  {
   "cell_type": "code",
   "execution_count": 3,
   "metadata": {},
   "outputs": [],
   "source": [
    "# Float precision variable, per column\n",
    "DEFAULT_PRECISION = 2\n",
    "COLOURS = {\n",
    "    \"blue\": \"#008AF3\",\n",
    "    \"mid_blue\": \"#006AB2\",\n",
    "    \"dark_blue\": \"#004676\",\n",
    "    \"pink\": \"#FF027A\",\n",
    "    \"red\": \"#B71C1C\",\n",
    "    \"green\": \"#1B5E20\"\n",
    "}\n",
    "\n",
    "rc = {\n",
    "    \"text.color\": \"black\",\n",
    "    \"axes.labelcolor\": \"black\",\n",
    "    \"legend.labelcolor\": \"black\",\n",
    "    \"xtick.color\": \"black\",\n",
    "    \"ytick.color\": \"black\",\n",
    "}\n",
    "\n",
    "sns.set_theme(\n",
    "    context=\"talk\",\n",
    "    style=\"whitegrid\",\n",
    "    palette=\"muted\",\n",
    "    rc=rc\n",
    ")"
   ]
  },
  {
   "cell_type": "markdown",
   "metadata": {},
   "source": [
    "## Family Statistical Tests\n",
    "**TODO:** Take care of statistical significance per additional family size (sizes do not have same amount of people)"
   ]
  },
  {
   "cell_type": "code",
   "execution_count": 4,
   "metadata": {},
   "outputs": [
    {
     "data": {
      "text/html": [
       "<div>\n",
       "<style scoped>\n",
       "    .dataframe tbody tr th:only-of-type {\n",
       "        vertical-align: middle;\n",
       "    }\n",
       "\n",
       "    .dataframe tbody tr th {\n",
       "        vertical-align: top;\n",
       "    }\n",
       "\n",
       "    .dataframe thead th {\n",
       "        text-align: right;\n",
       "    }\n",
       "</style>\n",
       "<table border=\"1\" class=\"dataframe\">\n",
       "  <thead>\n",
       "    <tr style=\"text-align: right;\">\n",
       "      <th>Survived</th>\n",
       "      <th>False</th>\n",
       "      <th>True</th>\n",
       "    </tr>\n",
       "    <tr>\n",
       "      <th>Family</th>\n",
       "      <th></th>\n",
       "      <th></th>\n",
       "    </tr>\n",
       "  </thead>\n",
       "  <tbody>\n",
       "    <tr>\n",
       "      <th>0</th>\n",
       "      <td>374</td>\n",
       "      <td>163</td>\n",
       "    </tr>\n",
       "    <tr>\n",
       "      <th>1</th>\n",
       "      <td>72</td>\n",
       "      <td>89</td>\n",
       "    </tr>\n",
       "    <tr>\n",
       "      <th>2</th>\n",
       "      <td>43</td>\n",
       "      <td>59</td>\n",
       "    </tr>\n",
       "    <tr>\n",
       "      <th>3</th>\n",
       "      <td>8</td>\n",
       "      <td>21</td>\n",
       "    </tr>\n",
       "    <tr>\n",
       "      <th>4</th>\n",
       "      <td>12</td>\n",
       "      <td>3</td>\n",
       "    </tr>\n",
       "    <tr>\n",
       "      <th>5</th>\n",
       "      <td>19</td>\n",
       "      <td>3</td>\n",
       "    </tr>\n",
       "    <tr>\n",
       "      <th>6</th>\n",
       "      <td>8</td>\n",
       "      <td>4</td>\n",
       "    </tr>\n",
       "    <tr>\n",
       "      <th>7</th>\n",
       "      <td>6</td>\n",
       "      <td>0</td>\n",
       "    </tr>\n",
       "    <tr>\n",
       "      <th>10</th>\n",
       "      <td>7</td>\n",
       "      <td>0</td>\n",
       "    </tr>\n",
       "  </tbody>\n",
       "</table>\n",
       "</div>"
      ],
      "text/plain": [
       "Survived  False  True \n",
       "Family                \n",
       "0           374    163\n",
       "1            72     89\n",
       "2            43     59\n",
       "3             8     21\n",
       "4            12      3\n",
       "5            19      3\n",
       "6             8      4\n",
       "7             6      0\n",
       "10            7      0"
      ]
     },
     "execution_count": 4,
     "metadata": {},
     "output_type": "execute_result"
    }
   ],
   "source": [
    "from scipy.stats import kstest, shapiro, ks_2samp, mannwhitneyu, ranksums, chi2_contingency, fisher_exact, ttest_ind\n",
    "from statsmodels.stats.contingency_tables import mcnemar\n",
    "from statsmodels.api import Logit\n",
    "from statsmodels.genmod.generalized_estimating_equations import GEE\n",
    "from scipy.stats import permutation_test\n",
    "\n",
    "\n",
    "ALPHA = 5e-2\n",
    "# Split into survivors and victims\n",
    "survival_rate_by_family = pd.crosstab(df[\"Family\"], df[\"Survived\"])\n",
    "family_survivors = df.query(\"Survived == True\")[\"Family\"]\n",
    "family_victims = df.query(\"Survived == False\")[\"Family\"]\n",
    "survival_rate_by_family"
   ]
  },
  {
   "cell_type": "markdown",
   "metadata": {},
   "source": [
    "### Tests for Normality"
   ]
  },
  {
   "cell_type": "markdown",
   "metadata": {},
   "source": [
    "#### Kolmogorov-Smirnov Test\n"
   ]
  },
  {
   "cell_type": "code",
   "execution_count": 5,
   "metadata": {},
   "outputs": [
    {
     "name": "stdout",
     "output_type": "stream",
     "text": [
      "K-S test for additional family on board: statistic=0.32, p-value=3.59e-79\n",
      "H_0 can be rejected for additional family on board.\n",
      "\n",
      "K-S test for survivors' additional family on board: statistic=0.26, p-value=3.05e-21\n",
      "H_0 can be rejected for survivors' additional family on board.\n",
      "\n",
      "K-S test for victims' additional family on board: statistic=0.37, p-value=1.23e-66\n",
      "H_0 can be rejected for victims' additional family on board.\n",
      "\n"
     ]
    }
   ],
   "source": [
    "def KSTEST(data, description):\n",
    "    data = data.copy()\n",
    "    # Standardise data\n",
    "    data = (data - data.mean()) / data.std()\n",
    "    # Perform the Kolmogorov-Smirnov test\n",
    "    statistic, p_value = kstest(data, \"norm\")\n",
    "    # Print results\n",
    "    print(\n",
    "        f\"K-S test for {description}: \"\n",
    "        f\"statistic={statistic:.{DEFAULT_PRECISION}f}, \"\n",
    "        f\"p-value={p_value:.{DEFAULT_PRECISION}e}\"\n",
    "    )\n",
    "    # Test interpretation\n",
    "    if p_value < ALPHA:\n",
    "        print(f\"H_0 can be rejected for {description}.\")\n",
    "    else:\n",
    "        print(f\"H_0 cannot be rejected for {description}.\")\n",
    "\n",
    "\n",
    "tasks = [\n",
    "    (df[\"Family\"], \"additional family on board\"),\n",
    "    (family_survivors, \"survivors' additional family on board\"),\n",
    "    (family_victims, \"victims' additional family on board\")\n",
    "]\n",
    "\n",
    "for data, description in tasks:\n",
    "    KSTEST(data, description)\n",
    "    print(\"\")"
   ]
  },
  {
   "cell_type": "markdown",
   "metadata": {},
   "source": [
    "#### Shapiro-Wilk Test\n"
   ]
  },
  {
   "cell_type": "code",
   "execution_count": 6,
   "metadata": {},
   "outputs": [
    {
     "name": "stdout",
     "output_type": "stream",
     "text": [
      "Shapiro-Wilk test for additional family on board: statistic=0.62, p-value=1.57e-40\n",
      "H_0 can be rejected for additional family on board.\n",
      "\n",
      "Shapiro-Wilk test for survivors' additional family on board: statistic=0.76, p-value=7.26e-22\n",
      "H_0 can be rejected for survivors' additional family on board.\n",
      "\n",
      "Shapiro-Wilk test for victims' additional family on board: statistic=0.55, p-value=3.86e-35\n",
      "H_0 can be rejected for victims' additional family on board.\n",
      "\n"
     ]
    }
   ],
   "source": [
    "def SWTEST(data, description):\n",
    "    data = data.copy()\n",
    "    # Perform the Shapiro-Wilk test\n",
    "    statistic, p_value = shapiro(data)\n",
    "    # Print results\n",
    "    print(\n",
    "        f\"Shapiro-Wilk test for {description}: \"\n",
    "        f\"statistic={statistic:.{DEFAULT_PRECISION}f}, \"\n",
    "        f\"p-value={p_value:.{DEFAULT_PRECISION}e}\"\n",
    "    )\n",
    "    # Test interpretation\n",
    "    if p_value < ALPHA:\n",
    "        print(f\"H_0 can be rejected for {description}.\")\n",
    "    else:\n",
    "        print(f\"H_0 cannot be rejected for {description}.\")\n",
    "\n",
    "\n",
    "tasks = [\n",
    "    (df[\"Family\"], \"additional family on board\"),\n",
    "    (family_survivors, \"survivors' additional family on board\"),\n",
    "    (family_victims, \"victims' additional family on board\")\n",
    "]\n",
    "\n",
    "for data, description in tasks:\n",
    "    SWTEST(data, description)\n",
    "    print(\"\")"
   ]
  },
  {
   "cell_type": "markdown",
   "metadata": {},
   "source": [
    "### Kolmogorov-Smirnov Two-Sample Test \n"
   ]
  },
  {
   "cell_type": "markdown",
   "metadata": {},
   "source": [
    "#### Two-Sided"
   ]
  },
  {
   "cell_type": "code",
   "execution_count": 7,
   "metadata": {},
   "outputs": [
    {
     "name": "stdout",
     "output_type": "stream",
     "text": [
      "Two-Sided K-S Statistic: 0.20\n",
      "Two-Sided p-value: 3.28e-08\n",
      "H_0 can be rejected.\n"
     ]
    }
   ],
   "source": [
    "# Perform the K-S two-sample test\n",
    "statistic, p_value = ks_2samp(family_survivors, family_victims)\n",
    "\n",
    "# Print results\n",
    "print(f\"Two-Sided K-S Statistic: {statistic:.{DEFAULT_PRECISION}f}\")\n",
    "print(f\"Two-Sided p-value: {p_value:.{DEFAULT_PRECISION}e}\")\n",
    "\n",
    "# Test interpretation\n",
    "if p_value < ALPHA:\n",
    "    print(\"H_0 can be rejected.\")\n",
    "else:\n",
    "    print(\"H_0 cannot be rejected.\")"
   ]
  },
  {
   "cell_type": "markdown",
   "metadata": {},
   "source": [
    "### Mann-Whitney U Test\n"
   ]
  },
  {
   "cell_type": "markdown",
   "metadata": {},
   "source": [
    "#### Two-Sided"
   ]
  },
  {
   "cell_type": "code",
   "execution_count": 8,
   "metadata": {},
   "outputs": [
    {
     "name": "stdout",
     "output_type": "stream",
     "text": [
      "Two-Sided U statistic: 110099.00\n",
      "Two-Sided P-value: 7.97e-07\n",
      "H_0 can be rejected.\n"
     ]
    }
   ],
   "source": [
    "# Perform Mann-Whitney U test\n",
    "u_statistic, p_value = mannwhitneyu(family_survivors, family_victims)\n",
    "\n",
    "# Print results\n",
    "print(f\"Two-Sided U statistic: {u_statistic:.{DEFAULT_PRECISION}f}\")\n",
    "print(f\"Two-Sided P-value: {p_value:.{DEFAULT_PRECISION}e}\")\n",
    "\n",
    "# Test interpretation\n",
    "if p_value < ALPHA:\n",
    "    print(\"H_0 can be rejected.\")\n",
    "else:\n",
    "    print(\"H_0 cannot be rejected.\")"
   ]
  },
  {
   "cell_type": "markdown",
   "metadata": {},
   "source": [
    "#### One-Sided"
   ]
  },
  {
   "cell_type": "code",
   "execution_count": 9,
   "metadata": {},
   "outputs": [
    {
     "name": "stdout",
     "output_type": "stream",
     "text": [
      "One-Sided U statistic: 110099.00\n",
      "One-Sided P-value: 3.99e-07\n",
      "H_0 can be rejected.\n"
     ]
    }
   ],
   "source": [
    "# Perform Mann-Whitney U test\n",
    "u_statistic, p_value = mannwhitneyu(family_survivors, family_victims, alternative=\"greater\")\n",
    "\n",
    "# Print results\n",
    "print(f\"One-Sided U statistic: {u_statistic:.{DEFAULT_PRECISION}f}\")\n",
    "print(f\"One-Sided P-value: {p_value:.{DEFAULT_PRECISION}e}\")\n",
    "\n",
    "# Test interpretation\n",
    "if p_value < ALPHA:\n",
    "    print(\"H_0 can be rejected.\")\n",
    "else:\n",
    "    print(\"H_0 cannot be rejected.\")"
   ]
  },
  {
   "cell_type": "markdown",
   "metadata": {},
   "source": [
    "### Wilcoxon Rank-Sum Test (with continuity correction)"
   ]
  },
  {
   "cell_type": "markdown",
   "metadata": {},
   "source": [
    "#### Two-Sided"
   ]
  },
  {
   "cell_type": "code",
   "execution_count": 10,
   "metadata": {},
   "outputs": [
    {
     "name": "stdout",
     "output_type": "stream",
     "text": [
      "Two-Sided Rank statistic: 4.34\n",
      "Two-Sided P-value: 1.41e-05\n",
      "H_0 can be rejected.\n"
     ]
    }
   ],
   "source": [
    "# Perform Wilcoxon rank-sum test\n",
    "rank_statistic, p_value = ranksums(family_survivors, family_victims)\n",
    "\n",
    "# Print results\n",
    "print(f\"Two-Sided Rank statistic: {rank_statistic:.{DEFAULT_PRECISION}f}\")\n",
    "print(f\"Two-Sided P-value: {p_value:.{DEFAULT_PRECISION}e}\")\n",
    "\n",
    "# Test interpretation\n",
    "if p_value < ALPHA:\n",
    "    print(\"H_0 can be rejected.\")\n",
    "else:\n",
    "    print(\"H_0 cannot be rejected.\")"
   ]
  },
  {
   "cell_type": "markdown",
   "metadata": {},
   "source": [
    "#### Two-Sided"
   ]
  },
  {
   "cell_type": "code",
   "execution_count": 11,
   "metadata": {},
   "outputs": [
    {
     "name": "stdout",
     "output_type": "stream",
     "text": [
      "One-Sided Rank statistic: 4.34\n",
      "One-Sided P-value: 7.07e-06\n",
      "H_0 can be rejected.\n"
     ]
    }
   ],
   "source": [
    "# Perform Wilcoxon rank-sum test\n",
    "rank_statistic, p_value = ranksums(family_survivors, family_victims, alternative=\"greater\")\n",
    "\n",
    "# Print results\n",
    "print(f\"One-Sided Rank statistic: {rank_statistic:.{DEFAULT_PRECISION}f}\")\n",
    "print(f\"One-Sided P-value: {p_value:.{DEFAULT_PRECISION}e}\")\n",
    "\n",
    "# Test interpretation\n",
    "if p_value < ALPHA:\n",
    "    print(\"H_0 can be rejected.\")\n",
    "else:\n",
    "    print(\"H_0 cannot be rejected.\")"
   ]
  },
  {
   "cell_type": "markdown",
   "metadata": {},
   "source": [
    "### Chi-Square Test for Independence"
   ]
  },
  {
   "cell_type": "code",
   "execution_count": 12,
   "metadata": {},
   "outputs": [
    {
     "name": "stdout",
     "output_type": "stream",
     "text": [
      "Chi-Square: 80.67\n",
      "P-value: 3.58e-14\n",
      "Degrees of Freedom: 8\n",
      "Expected frequencies:\n",
      "[[330.88 206.12]\n",
      " [ 99.2   61.8 ]\n",
      " [ 62.85  39.15]\n",
      " [ 17.87  11.13]\n",
      " [  9.24   5.76]\n",
      " [ 13.56   8.44]\n",
      " [  7.39   4.61]\n",
      " [  3.7    2.3 ]\n",
      " [  4.31   2.69]]\n",
      "H_0 can be rejected.\n"
     ]
    }
   ],
   "source": [
    "# Perform Chi-Square test\n",
    "chi2, p, dof, expected = chi2_contingency(survival_rate_by_family)\n",
    "\n",
    "# Print results\n",
    "with np.printoptions(precision=DEFAULT_PRECISION):\n",
    "    print(f\"Chi-Square: {chi2:.{DEFAULT_PRECISION}f}\")\n",
    "    print(f\"P-value: {p:.{DEFAULT_PRECISION}e}\")\n",
    "    print(f\"Degrees of Freedom: {dof}\")\n",
    "    print(f\"Expected frequencies:\\n{expected}\")\n",
    "\n",
    "# Test interpretation\n",
    "if p < ALPHA:\n",
    "    print(\"H_0 can be rejected.\")\n",
    "else:\n",
    "    print(\"H_0 cannot be rejected.\")"
   ]
  },
  {
   "cell_type": "markdown",
   "metadata": {},
   "source": [
    "### Fisher's Exact Test\n"
   ]
  },
  {
   "cell_type": "markdown",
   "metadata": {},
   "source": [
    "#### Two-Sided"
   ]
  },
  {
   "cell_type": "code",
   "execution_count": 13,
   "metadata": {},
   "outputs": [
    {
     "name": "stdout",
     "output_type": "stream",
     "text": [
      "Two-Sided Statistics: [0.43 2.33 2.45 4.42 0.4  0.25 0.8  0.    nan]\n",
      "Two-Sided P-values: [1.86e-09 1.77e-06 3.21e-05 2.83e-04 1.84e-01 1.45e-02 1.00e+00 8.77e-02\n",
      " 1.00e+00]\n",
      "Whether H_0 can be rejected:\n",
      " [ True  True  True  True False  True False False False]\n",
      "H_0 cannot be rejected.\n"
     ]
    }
   ],
   "source": [
    "# Since Fisher's Exact Test is designed for 2x2 tables, we split the analysis into pairs\n",
    "results_table = np.zeros(\n",
    "    (\n",
    "        len(survival_rate_by_family.index),\n",
    "        2\n",
    "    )\n",
    ")\n",
    "# Iterate over all values of family\n",
    "for i, idx_i in enumerate(survival_rate_by_family.index):\n",
    "    # Create a 2x2 contingency table\n",
    "    subtable = survival_rate_by_family.groupby(survival_rate_by_family.index == i).sum()\n",
    "    # If there are no survivors or victims, add a row of zeros\n",
    "    if len(subtable) < 2:\n",
    "        subtable = subtable._append(\n",
    "            pd.DataFrame(\n",
    "                [[0, 0]],\n",
    "                index=~subtable.index,\n",
    "                columns=subtable.columns\n",
    "            )\n",
    "        )\n",
    "    # Run Fisher's exact test\n",
    "    results_table[i] = fisher_exact(subtable)\n",
    "\n",
    "# Print results\n",
    "with np.printoptions(precision=DEFAULT_PRECISION):\n",
    "    print(f\"Two-Sided Statistics: {results_table[..., 0]}\")\n",
    "    print(f\"Two-Sided P-values: {results_table[..., 1]}\")\n",
    "print(\"Whether H_0 can be rejected:\\n\", results_table[..., 1] < ALPHA)\n",
    "\n",
    "# Test interpretation\n",
    "if np.all(results_table[..., 1] < ALPHA):\n",
    "    print(\"H_0 can be rejected.\")\n",
    "else:\n",
    "    print(\"H_0 cannot be rejected.\")"
   ]
  },
  {
   "cell_type": "markdown",
   "metadata": {},
   "source": [
    "#### One-Sided"
   ]
  },
  {
   "cell_type": "code",
   "execution_count": 14,
   "metadata": {},
   "outputs": [
    {
     "name": "stdout",
     "output_type": "stream",
     "text": [
      "One-Sided Statistics: [0.43 2.33 2.45 4.42 0.4  0.25 0.8  0.    nan]\n",
      "One-Sided P-values: [1.00e+00 1.16e-06 1.84e-05 1.67e-04 9.65e-01 9.98e-01 7.40e-01 1.00e+00\n",
      " 1.00e+00]\n",
      "Whether H_0 can be rejected:\n",
      " [False  True  True  True False False False False False]\n",
      "H_0 cannot be rejected.\n"
     ]
    }
   ],
   "source": [
    "# Since Fisher's Exact Test is designed for 2x2 tables, we split the analysis into pairs\n",
    "results_table = np.zeros(\n",
    "    (\n",
    "        len(survival_rate_by_family.index),\n",
    "        2\n",
    "    )\n",
    ")\n",
    "# Iterate over all values of family\n",
    "for i, idx_i in enumerate(survival_rate_by_family.index):\n",
    "    # Create a 2x2 contingency table\n",
    "    subtable = survival_rate_by_family.groupby(\n",
    "        survival_rate_by_family.index == i).sum()\n",
    "    # If there are no survivors or victims, add a row of zeros\n",
    "    if len(subtable) < 2:\n",
    "        subtable = subtable._append(\n",
    "            pd.DataFrame(\n",
    "                [[0, 0]],\n",
    "                index=~subtable.index,\n",
    "                columns=subtable.columns\n",
    "            )\n",
    "        )\n",
    "    # Run Fisher's exact test\n",
    "    results_table[i] = fisher_exact(subtable, alternative=\"greater\")\n",
    "\n",
    "# Print results\n",
    "with np.printoptions(precision=DEFAULT_PRECISION):\n",
    "    print(f\"One-Sided Statistics: {results_table[..., 0]}\")\n",
    "    print(f\"One-Sided P-values: {results_table[..., 1]}\")\n",
    "print(\"Whether H_0 can be rejected:\\n\", results_table[..., 1] < ALPHA)\n",
    "\n",
    "# Test interpretation\n",
    "if np.all(results_table[..., 1] < ALPHA):\n",
    "    print(\"H_0 can be rejected.\")\n",
    "else:\n",
    "    print(\"H_0 cannot be rejected.\")"
   ]
  },
  {
   "cell_type": "markdown",
   "metadata": {},
   "source": [
    "### Logistic Regression as a Statistical Test\n"
   ]
  },
  {
   "cell_type": "code",
   "execution_count": 15,
   "metadata": {},
   "outputs": [
    {
     "name": "stdout",
     "output_type": "stream",
     "text": [
      "Optimization terminated successfully.\n",
      "         Current function value: 0.688094\n",
      "         Iterations 4\n",
      "p-value: 3.54e-03\n",
      "H_0 can be rejected.\n"
     ]
    },
    {
     "data": {
      "text/html": [
       "<table class=\"simpletable\">\n",
       "<caption>Logit Regression Results</caption>\n",
       "<tr>\n",
       "  <th>Dep. Variable:</th>       <td>Survived</td>     <th>  No. Observations:  </th>  <td>   891</td> \n",
       "</tr>\n",
       "<tr>\n",
       "  <th>Model:</th>                 <td>Logit</td>      <th>  Df Residuals:      </th>  <td>   890</td> \n",
       "</tr>\n",
       "<tr>\n",
       "  <th>Method:</th>                 <td>MLE</td>       <th>  Df Model:          </th>  <td>     0</td> \n",
       "</tr>\n",
       "<tr>\n",
       "  <th>Date:</th>            <td>Sat, 05 Oct 2024</td> <th>  Pseudo R-squ.:     </th> <td>-0.03331</td>\n",
       "</tr>\n",
       "<tr>\n",
       "  <th>Time:</th>                <td>19:19:14</td>     <th>  Log-Likelihood:    </th> <td> -613.09</td>\n",
       "</tr>\n",
       "<tr>\n",
       "  <th>converged:</th>             <td>True</td>       <th>  LL-Null:           </th> <td> -593.33</td>\n",
       "</tr>\n",
       "<tr>\n",
       "  <th>Covariance Type:</th>     <td>nonrobust</td>    <th>  LLR p-value:       </th>  <td>   nan</td> \n",
       "</tr>\n",
       "</table>\n",
       "<table class=\"simpletable\">\n",
       "<tr>\n",
       "     <td></td>       <th>coef</th>     <th>std err</th>      <th>z</th>      <th>P>|z|</th>  <th>[0.025</th>    <th>0.975]</th>  \n",
       "</tr>\n",
       "<tr>\n",
       "  <th>Family</th> <td>   -0.1120</td> <td>    0.038</td> <td>   -2.917</td> <td> 0.004</td> <td>   -0.187</td> <td>   -0.037</td>\n",
       "</tr>\n",
       "</table>"
      ],
      "text/latex": [
       "\\begin{center}\n",
       "\\begin{tabular}{lclc}\n",
       "\\toprule\n",
       "\\textbf{Dep. Variable:}   &     Survived     & \\textbf{  No. Observations:  } &      891    \\\\\n",
       "\\textbf{Model:}           &      Logit       & \\textbf{  Df Residuals:      } &      890    \\\\\n",
       "\\textbf{Method:}          &       MLE        & \\textbf{  Df Model:          } &        0    \\\\\n",
       "\\textbf{Date:}            & Sat, 05 Oct 2024 & \\textbf{  Pseudo R-squ.:     } &  -0.03331   \\\\\n",
       "\\textbf{Time:}            &     19:19:14     & \\textbf{  Log-Likelihood:    } &   -613.09   \\\\\n",
       "\\textbf{converged:}       &       True       & \\textbf{  LL-Null:           } &   -593.33   \\\\\n",
       "\\textbf{Covariance Type:} &    nonrobust     & \\textbf{  LLR p-value:       } &      nan    \\\\\n",
       "\\bottomrule\n",
       "\\end{tabular}\n",
       "\\begin{tabular}{lcccccc}\n",
       "                & \\textbf{coef} & \\textbf{std err} & \\textbf{z} & \\textbf{P$> |$z$|$} & \\textbf{[0.025} & \\textbf{0.975]}  \\\\\n",
       "\\midrule\n",
       "\\textbf{Family} &      -0.1120  &        0.038     &    -2.917  &         0.004        &       -0.187    &       -0.037     \\\\\n",
       "\\bottomrule\n",
       "\\end{tabular}\n",
       "%\\caption{Logit Regression Results}\n",
       "\\end{center}"
      ],
      "text/plain": [
       "<class 'statsmodels.iolib.summary.Summary'>\n",
       "\"\"\"\n",
       "                           Logit Regression Results                           \n",
       "==============================================================================\n",
       "Dep. Variable:               Survived   No. Observations:                  891\n",
       "Model:                          Logit   Df Residuals:                      890\n",
       "Method:                           MLE   Df Model:                            0\n",
       "Date:                Sat, 05 Oct 2024   Pseudo R-squ.:                -0.03331\n",
       "Time:                        19:19:14   Log-Likelihood:                -613.09\n",
       "converged:                       True   LL-Null:                       -593.33\n",
       "Covariance Type:            nonrobust   LLR p-value:                       nan\n",
       "==============================================================================\n",
       "                 coef    std err          z      P>|z|      [0.025      0.975]\n",
       "------------------------------------------------------------------------------\n",
       "Family        -0.1120      0.038     -2.917      0.004      -0.187      -0.037\n",
       "==============================================================================\n",
       "\"\"\""
      ]
     },
     "execution_count": 15,
     "metadata": {},
     "output_type": "execute_result"
    }
   ],
   "source": [
    "# Create and fit the logistic regression model\n",
    "model = Logit(\n",
    "    df[\"Survived\"].copy(),\n",
    "    df[\"Family\"].copy()\n",
    ").fit()\n",
    "\n",
    "# Print p-values\n",
    "p_value = model.pvalues.iloc[0]\n",
    "print(f\"p-value: {p_value:.{DEFAULT_PRECISION}e}\")\n",
    "\n",
    "# Test interpretation\n",
    "if p_value < ALPHA:\n",
    "    print(\"H_0 can be rejected.\")\n",
    "else:\n",
    "    print(\"H_0 cannot be rejected.\")\n",
    "\n",
    "model.summary()"
   ]
  },
  {
   "cell_type": "markdown",
   "metadata": {},
   "source": [
    "### Test in the Case of Dependent Samples"
   ]
  },
  {
   "cell_type": "markdown",
   "metadata": {},
   "source": [
    "#### Generalied Estimating Equations (GEE)\n"
   ]
  },
  {
   "cell_type": "code",
   "execution_count": 16,
   "metadata": {},
   "outputs": [
    {
     "name": "stdout",
     "output_type": "stream",
     "text": [
      "p-value: 2.66e-02\n",
      "H_0 can be rejected.\n"
     ]
    },
    {
     "data": {
      "text/html": [
       "<table class=\"simpletable\">\n",
       "<caption>GEE Regression Results</caption>\n",
       "<tr>\n",
       "  <th>Dep. Variable:</th>              <td>Survived</td>       <th>  No. Observations:  </th>    <td>891</td>  \n",
       "</tr>\n",
       "<tr>\n",
       "  <th>Model:</th>                         <td>GEE</td>         <th>  No. clusters:      </th>     <td>9</td>   \n",
       "</tr>\n",
       "<tr>\n",
       "  <th>Method:</th>                    <td>Generalized</td>     <th>  Min. cluster size: </th>     <td>6</td>   \n",
       "</tr>\n",
       "<tr>\n",
       "  <th></th>                      <td>Estimating Equations</td> <th>  Max. cluster size: </th>    <td>537</td>  \n",
       "</tr>\n",
       "<tr>\n",
       "  <th>Family:</th>                     <td>Gaussian</td>       <th>  Mean cluster size: </th>   <td>99.0</td>  \n",
       "</tr>\n",
       "<tr>\n",
       "  <th>Dependence structure:</th>     <td>Independence</td>     <th>  Num. iterations:   </th>     <td>2</td>   \n",
       "</tr>\n",
       "<tr>\n",
       "  <th>Date:</th>                   <td>Sat, 05 Oct 2024</td>   <th>  Scale:             </th>   <td>0.346</td> \n",
       "</tr>\n",
       "<tr>\n",
       "  <th>Covariance type: </th>            <td>robust</td>        <th>  Time:              </th> <td>19:19:14</td>\n",
       "</tr>\n",
       "</table>\n",
       "<table class=\"simpletable\">\n",
       "<tr>\n",
       "     <td></td>       <th>coef</th>     <th>std err</th>      <th>z</th>      <th>P>|z|</th>  <th>[0.025</th>    <th>0.975]</th>  \n",
       "</tr>\n",
       "<tr>\n",
       "  <th>Family</th> <td>    0.1054</td> <td>    0.048</td> <td>    2.217</td> <td> 0.027</td> <td>    0.012</td> <td>    0.199</td>\n",
       "</tr>\n",
       "</table>\n",
       "<table class=\"simpletable\">\n",
       "<tr>\n",
       "  <th>Skew:</th>          <td>      0.1881</td> <th>  Kurtosis:          </th> <td>     -1.1666</td>\n",
       "</tr>\n",
       "<tr>\n",
       "  <th>Centered skew:</th> <td>      0.4289</td> <th>  Centered kurtosis: </th> <td>     -1.4324</td>\n",
       "</tr>\n",
       "</table>"
      ],
      "text/latex": [
       "\\begin{center}\n",
       "\\begin{tabular}{lclc}\n",
       "\\toprule\n",
       "\\textbf{Dep. Variable:}        &       Survived       & \\textbf{  No. Observations:  } &     891       \\\\\n",
       "\\textbf{Model:}                &         GEE          & \\textbf{  No. clusters:      } &      9        \\\\\n",
       "\\textbf{Method:}               &     Generalized      & \\textbf{  Min. cluster size: } &      6        \\\\\n",
       "\\textbf{}                      & Estimating Equations & \\textbf{  Max. cluster size: } &     537       \\\\\n",
       "\\textbf{Family:}               &       Gaussian       & \\textbf{  Mean cluster size: } &     99.0      \\\\\n",
       "\\textbf{Dependence structure:} &     Independence     & \\textbf{  Num. iterations:   } &      2        \\\\\n",
       "\\textbf{Date:}                 &   Sat, 05 Oct 2024   & \\textbf{  Scale:             } &    0.346      \\\\\n",
       "\\textbf{Covariance type: }     &        robust        & \\textbf{  Time:              } &   19:19:14    \\\\\n",
       "\\bottomrule\n",
       "\\end{tabular}\n",
       "\\begin{tabular}{lcccccc}\n",
       "                & \\textbf{coef} & \\textbf{std err} & \\textbf{z} & \\textbf{P$> |$z$|$} & \\textbf{[0.025} & \\textbf{0.975]}  \\\\\n",
       "\\midrule\n",
       "\\textbf{Family} &       0.1054  &        0.048     &     2.217  &         0.027        &        0.012    &        0.199     \\\\\n",
       "\\bottomrule\n",
       "\\end{tabular}\n",
       "\\begin{tabular}{lclc}\n",
       "\\textbf{Skew:}          &       0.1881 & \\textbf{  Kurtosis:          } &      -1.1666  \\\\\n",
       "\\textbf{Centered skew:} &       0.4289 & \\textbf{  Centered kurtosis: } &      -1.4324  \\\\\n",
       "\\bottomrule\n",
       "\\end{tabular}\n",
       "%\\caption{GEE Regression Results}\n",
       "\\end{center}"
      ],
      "text/plain": [
       "<class 'statsmodels.iolib.summary.Summary'>\n",
       "\"\"\"\n",
       "                               GEE Regression Results                              \n",
       "===================================================================================\n",
       "Dep. Variable:                    Survived   No. Observations:                  891\n",
       "Model:                                 GEE   No. clusters:                        9\n",
       "Method:                        Generalized   Min. cluster size:                   6\n",
       "                      Estimating Equations   Max. cluster size:                 537\n",
       "Family:                           Gaussian   Mean cluster size:                99.0\n",
       "Dependence structure:         Independence   Num. iterations:                     2\n",
       "Date:                     Sat, 05 Oct 2024   Scale:                           0.346\n",
       "Covariance type:                    robust   Time:                         19:19:14\n",
       "==============================================================================\n",
       "                 coef    std err          z      P>|z|      [0.025      0.975]\n",
       "------------------------------------------------------------------------------\n",
       "Family         0.1054      0.048      2.217      0.027       0.012       0.199\n",
       "==============================================================================\n",
       "Skew:                          0.1881   Kurtosis:                      -1.1666\n",
       "Centered skew:                 0.4289   Centered kurtosis:             -1.4324\n",
       "==============================================================================\n",
       "\"\"\""
      ]
     },
     "execution_count": 16,
     "metadata": {},
     "output_type": "execute_result"
    }
   ],
   "source": [
    "# Create and fit the GEE model\n",
    "model = GEE(\n",
    "    df[\"Survived\"].copy(),\n",
    "    df[\"Family\"].copy(),\n",
    "    groups=df[\"Family\"].copy()\n",
    ").fit()\n",
    "\n",
    "# Print p-values\n",
    "p_value = model.pvalues.iloc[0]\n",
    "print(f\"p-value: {p_value:.{DEFAULT_PRECISION}e}\")\n",
    "\n",
    "# Test interpretation\n",
    "if p_value < ALPHA:\n",
    "    print(\"H_0 can be rejected.\")\n",
    "else:\n",
    "    print(\"H_0 cannot be rejected.\")\n",
    "    \n",
    "model.summary()"
   ]
  },
  {
   "cell_type": "markdown",
   "metadata": {},
   "source": [
    "#### Logistic Regression with Clustered Standard Errors"
   ]
  },
  {
   "cell_type": "code",
   "execution_count": 17,
   "metadata": {},
   "outputs": [
    {
     "name": "stdout",
     "output_type": "stream",
     "text": [
      "Optimization terminated successfully.\n",
      "         Current function value: 0.688094\n",
      "         Iterations 4\n",
      "p-value: 1.80e-01\n",
      "H_0 cannot be rejected.\n"
     ]
    },
    {
     "data": {
      "text/html": [
       "<table class=\"simpletable\">\n",
       "<caption>Logit Regression Results</caption>\n",
       "<tr>\n",
       "  <th>Dep. Variable:</th>       <td>Survived</td>     <th>  No. Observations:  </th>  <td>   891</td> \n",
       "</tr>\n",
       "<tr>\n",
       "  <th>Model:</th>                 <td>Logit</td>      <th>  Df Residuals:      </th>  <td>   890</td> \n",
       "</tr>\n",
       "<tr>\n",
       "  <th>Method:</th>                 <td>MLE</td>       <th>  Df Model:          </th>  <td>     0</td> \n",
       "</tr>\n",
       "<tr>\n",
       "  <th>Date:</th>            <td>Sat, 05 Oct 2024</td> <th>  Pseudo R-squ.:     </th> <td>-0.03331</td>\n",
       "</tr>\n",
       "<tr>\n",
       "  <th>Time:</th>                <td>19:19:14</td>     <th>  Log-Likelihood:    </th> <td> -613.09</td>\n",
       "</tr>\n",
       "<tr>\n",
       "  <th>converged:</th>             <td>True</td>       <th>  LL-Null:           </th> <td> -593.33</td>\n",
       "</tr>\n",
       "<tr>\n",
       "  <th>Covariance Type:</th>      <td>cluster</td>     <th>  LLR p-value:       </th>  <td>   nan</td> \n",
       "</tr>\n",
       "</table>\n",
       "<table class=\"simpletable\">\n",
       "<tr>\n",
       "     <td></td>       <th>coef</th>     <th>std err</th>      <th>z</th>      <th>P>|z|</th>  <th>[0.025</th>    <th>0.975]</th>  \n",
       "</tr>\n",
       "<tr>\n",
       "  <th>Family</th> <td>   -0.1120</td> <td>    0.084</td> <td>   -1.340</td> <td> 0.180</td> <td>   -0.276</td> <td>    0.052</td>\n",
       "</tr>\n",
       "</table>"
      ],
      "text/latex": [
       "\\begin{center}\n",
       "\\begin{tabular}{lclc}\n",
       "\\toprule\n",
       "\\textbf{Dep. Variable:}   &     Survived     & \\textbf{  No. Observations:  } &      891    \\\\\n",
       "\\textbf{Model:}           &      Logit       & \\textbf{  Df Residuals:      } &      890    \\\\\n",
       "\\textbf{Method:}          &       MLE        & \\textbf{  Df Model:          } &        0    \\\\\n",
       "\\textbf{Date:}            & Sat, 05 Oct 2024 & \\textbf{  Pseudo R-squ.:     } &  -0.03331   \\\\\n",
       "\\textbf{Time:}            &     19:19:14     & \\textbf{  Log-Likelihood:    } &   -613.09   \\\\\n",
       "\\textbf{converged:}       &       True       & \\textbf{  LL-Null:           } &   -593.33   \\\\\n",
       "\\textbf{Covariance Type:} &     cluster      & \\textbf{  LLR p-value:       } &      nan    \\\\\n",
       "\\bottomrule\n",
       "\\end{tabular}\n",
       "\\begin{tabular}{lcccccc}\n",
       "                & \\textbf{coef} & \\textbf{std err} & \\textbf{z} & \\textbf{P$> |$z$|$} & \\textbf{[0.025} & \\textbf{0.975]}  \\\\\n",
       "\\midrule\n",
       "\\textbf{Family} &      -0.1120  &        0.084     &    -1.340  &         0.180        &       -0.276    &        0.052     \\\\\n",
       "\\bottomrule\n",
       "\\end{tabular}\n",
       "%\\caption{Logit Regression Results}\n",
       "\\end{center}"
      ],
      "text/plain": [
       "<class 'statsmodels.iolib.summary.Summary'>\n",
       "\"\"\"\n",
       "                           Logit Regression Results                           \n",
       "==============================================================================\n",
       "Dep. Variable:               Survived   No. Observations:                  891\n",
       "Model:                          Logit   Df Residuals:                      890\n",
       "Method:                           MLE   Df Model:                            0\n",
       "Date:                Sat, 05 Oct 2024   Pseudo R-squ.:                -0.03331\n",
       "Time:                        19:19:14   Log-Likelihood:                -613.09\n",
       "converged:                       True   LL-Null:                       -593.33\n",
       "Covariance Type:              cluster   LLR p-value:                       nan\n",
       "==============================================================================\n",
       "                 coef    std err          z      P>|z|      [0.025      0.975]\n",
       "------------------------------------------------------------------------------\n",
       "Family        -0.1120      0.084     -1.340      0.180      -0.276       0.052\n",
       "==============================================================================\n",
       "\"\"\""
      ]
     },
     "execution_count": 17,
     "metadata": {},
     "output_type": "execute_result"
    }
   ],
   "source": [
    "# Create and fit the logistic regression model\n",
    "model = Logit(\n",
    "    df[\"Survived\"].copy(),\n",
    "    df[\"Family\"].copy()\n",
    ").fit(\n",
    "    cov_type=\"cluster\",\n",
    "    cov_kwds={\n",
    "        \"groups\": df[\"Family\"].copy()\n",
    "    }\n",
    ")\n",
    "\n",
    "# Print p-values\n",
    "p_value = model.pvalues.iloc[0]\n",
    "print(f\"p-value: {p_value:.{DEFAULT_PRECISION}e}\")\n",
    "\n",
    "# Test interpretation\n",
    "if p_value < ALPHA:\n",
    "    print(\"H_0 can be rejected.\")\n",
    "else:\n",
    "    print(\"H_0 cannot be rejected.\")\n",
    "    \n",
    "model.summary()"
   ]
  },
  {
   "cell_type": "markdown",
   "metadata": {},
   "source": [
    "#### Permutation Test\n"
   ]
  },
  {
   "cell_type": "markdown",
   "metadata": {},
   "source": [
    "##### Two-Sided"
   ]
  },
  {
   "cell_type": "code",
   "execution_count": 18,
   "metadata": {},
   "outputs": [
    {
     "name": "stdout",
     "output_type": "stream",
     "text": [
      "Two-Sided Statistics: [ 0.21  0.22  0.35 -0.19 -0.25 -0.05 -0.39 -1.   -1.   -0.39]\n",
      "Two-Sided P-values: [ 0.    0.    0.    0.2   0.02  0.97  0.14 -1.   -1.    0.08]\n",
      "Whether H_0 can be rejected:\n",
      " [ True  True  True False  True False False  True  True False]\n",
      "H_0 cannot be rejected.\n"
     ]
    }
   ],
   "source": [
    "N_PERMUTATIONS = 1000\n",
    "# Initialising with '-1's since some family sizes do not have any survivors or victims\n",
    "results_table = -1 * np.ones((df[\"Family\"].max(), 2))\n",
    "\n",
    "# Iterate over all classes\n",
    "for family_idx in df[\"Family\"].unique():\n",
    "    # Split the data into the family size of interest\n",
    "    family_survival = df[df[\"Family\"] == family_idx][\"Survived\"]\n",
    "    non_family_survival = df[df[\"Family\"] != family_idx][\"Survived\"]\n",
    "    # Perform permuation test\n",
    "    result = permutation_test(\n",
    "        data=(family_survival, non_family_survival),\n",
    "        statistic=lambda c, nc: np.mean(c) - np.mean(nc),\n",
    "        permutation_type=\"independent\",\n",
    "        n_resamples=N_PERMUTATIONS,\n",
    "        alternative=\"two-sided\"\n",
    "    )\n",
    "    results_table[family_idx - 1] = result.statistic, result.pvalue\n",
    "\n",
    "# Print results\n",
    "with np.printoptions(precision=DEFAULT_PRECISION):\n",
    "    print(f\"Two-Sided Statistics: {results_table[..., 0]}\")\n",
    "    print(f\"Two-Sided P-values: {results_table[..., 1]}\")\n",
    "print(\"Whether H_0 can be rejected:\\n\", results_table[..., 1] < ALPHA)\n",
    "\n",
    "# Test interpretation\n",
    "if np.all(results_table[..., 1] < ALPHA):\n",
    "    print(\"H_0 can be rejected.\")\n",
    "else:\n",
    "    print(\"H_0 cannot be rejected.\")"
   ]
  },
  {
   "cell_type": "markdown",
   "metadata": {},
   "source": [
    "##### One-Sided"
   ]
  },
  {
   "cell_type": "code",
   "execution_count": 19,
   "metadata": {},
   "outputs": [
    {
     "name": "stdout",
     "output_type": "stream",
     "text": [
      "One-Sided Statistics: [ 0.21  0.22  0.35 -0.19 -0.25 -0.05 -0.39 -1.   -1.   -0.39]\n",
      "One-Sided P-values: [ 9.99e-04  9.99e-04  9.99e-04  9.69e-01  9.98e-01  7.32e-01  1.00e+00\n",
      " -1.00e+00 -1.00e+00  1.00e+00]\n",
      "Whether H_0 can be rejected:\n",
      " [ True  True  True False False False False  True  True False]\n",
      "H_0 cannot be rejected.\n"
     ]
    }
   ],
   "source": [
    "N_PERMUTATIONS = 1000\n",
    "# Initialising with '-1's since some family sizes do not have any survivors or victims\n",
    "results_table = -1 * np.ones((df[\"Family\"].max(), 2))\n",
    "\n",
    "# Iterate over all classes\n",
    "for family_idx in df[\"Family\"].unique():\n",
    "    # Split the data into the family size of interest\n",
    "    family_survival = df[df[\"Family\"] == family_idx][\"Survived\"]\n",
    "    non_family_survival = df[df[\"Family\"] != family_idx][\"Survived\"]\n",
    "    # Perform permuation test\n",
    "    result = permutation_test(\n",
    "        data=(family_survival, non_family_survival),\n",
    "        statistic=lambda c, nc: np.mean(c) - np.mean(nc),\n",
    "        permutation_type=\"independent\",\n",
    "        n_resamples=N_PERMUTATIONS,\n",
    "        alternative=\"greater\"\n",
    "    )\n",
    "    results_table[family_idx - 1] = result.statistic, result.pvalue\n",
    "\n",
    "# Print results\n",
    "with np.printoptions(precision=DEFAULT_PRECISION):\n",
    "    print(f\"One-Sided Statistics: {results_table[..., 0]}\")\n",
    "    print(f\"One-Sided P-values: {results_table[..., 1]}\")\n",
    "print(\"Whether H_0 can be rejected:\\n\", results_table[..., 1] < ALPHA)\n",
    "\n",
    "# Test interpretation\n",
    "if np.all(results_table[..., 1] < ALPHA):\n",
    "    print(\"H_0 can be rejected.\")\n",
    "else:\n",
    "    print(\"H_0 cannot be rejected.\")"
   ]
  },
  {
   "cell_type": "markdown",
   "metadata": {},
   "source": [
    "## Alone Statistical Tests"
   ]
  },
  {
   "cell_type": "code",
   "execution_count": 20,
   "metadata": {},
   "outputs": [
    {
     "data": {
      "text/html": [
       "<div>\n",
       "<style scoped>\n",
       "    .dataframe tbody tr th:only-of-type {\n",
       "        vertical-align: middle;\n",
       "    }\n",
       "\n",
       "    .dataframe tbody tr th {\n",
       "        vertical-align: top;\n",
       "    }\n",
       "\n",
       "    .dataframe thead th {\n",
       "        text-align: right;\n",
       "    }\n",
       "</style>\n",
       "<table border=\"1\" class=\"dataframe\">\n",
       "  <thead>\n",
       "    <tr style=\"text-align: right;\">\n",
       "      <th>Survived</th>\n",
       "      <th>False</th>\n",
       "      <th>True</th>\n",
       "    </tr>\n",
       "    <tr>\n",
       "      <th>Family</th>\n",
       "      <th></th>\n",
       "      <th></th>\n",
       "    </tr>\n",
       "  </thead>\n",
       "  <tbody>\n",
       "    <tr>\n",
       "      <th>False</th>\n",
       "      <td>175</td>\n",
       "      <td>179</td>\n",
       "    </tr>\n",
       "    <tr>\n",
       "      <th>True</th>\n",
       "      <td>374</td>\n",
       "      <td>163</td>\n",
       "    </tr>\n",
       "  </tbody>\n",
       "</table>\n",
       "</div>"
      ],
      "text/plain": [
       "Survived  False  True \n",
       "Family                \n",
       "False       175    179\n",
       "True        374    163"
      ]
     },
     "execution_count": 20,
     "metadata": {},
     "output_type": "execute_result"
    }
   ],
   "source": [
    "from scipy.stats import kstest, shapiro, ks_2samp, mannwhitneyu, ranksums, chi2_contingency, fisher_exact, ttest_ind\n",
    "from statsmodels.stats.contingency_tables import mcnemar \n",
    "from scipy.stats import permutation_test\n",
    "\n",
    "\n",
    "ALPHA = 5e-2\n",
    "# Split into survivors and victims\n",
    "survival_rate_by_alone = pd.crosstab(df[\"Family\"] == 0, df[\"Survived\"])\n",
    "alone_survivors = df.query(\"Survived == True\")[\"Family\"] == 0\n",
    "alone_victims = df.query(\"Survived == False\")[\"Family\"] == 0\n",
    "survival_rate_by_alone"
   ]
  },
  {
   "cell_type": "markdown",
   "metadata": {},
   "source": [
    "### Kolmogorov-Smirnov Two-Sample Test "
   ]
  },
  {
   "cell_type": "markdown",
   "metadata": {},
   "source": [
    "#### Two-Sided"
   ]
  },
  {
   "cell_type": "code",
   "execution_count": 21,
   "metadata": {},
   "outputs": [
    {
     "name": "stdout",
     "output_type": "stream",
     "text": [
      "Two-Sided K-S Statistic: 0.20\n",
      "Two-Sided p-value: 3.28e-08\n",
      "H_0 can be rejected.\n"
     ]
    }
   ],
   "source": [
    "# Perform the K-S two-sample test\n",
    "statistic, p_value = ks_2samp(alone_survivors, alone_victims)\n",
    "\n",
    "# Print results\n",
    "print(f\"Two-Sided K-S Statistic: {statistic:.{DEFAULT_PRECISION}f}\")\n",
    "print(f\"Two-Sided p-value: {p_value:.{DEFAULT_PRECISION}e}\")\n",
    "\n",
    "# Test interpretation\n",
    "if p_value < ALPHA:\n",
    "    print(\"H_0 can be rejected.\")\n",
    "else:\n",
    "    print(\"H_0 cannot be rejected.\")"
   ]
  },
  {
   "cell_type": "markdown",
   "metadata": {},
   "source": [
    "#### One-Sided"
   ]
  },
  {
   "cell_type": "code",
   "execution_count": 22,
   "metadata": {},
   "outputs": [
    {
     "name": "stdout",
     "output_type": "stream",
     "text": [
      "One-Sided K-S Statistic: 0.20\n",
      "One-Sided p-value: 1.64e-08\n",
      "H_0 can be rejected.\n"
     ]
    }
   ],
   "source": [
    "# Perform the K-S two-sample test\n",
    "statistic, p_value = ks_2samp(alone_survivors, alone_victims, alternative=\"greater\")\n",
    "\n",
    "# Print results\n",
    "print(f\"One-Sided K-S Statistic: {statistic:.{DEFAULT_PRECISION}f}\")\n",
    "print(f\"One-Sided p-value: {p_value:.{DEFAULT_PRECISION}e}\")\n",
    "\n",
    "# Test interpretation\n",
    "if p_value < ALPHA:\n",
    "    print(\"H_0 can be rejected.\")\n",
    "else:\n",
    "    print(\"H_0 cannot be rejected.\")"
   ]
  },
  {
   "cell_type": "markdown",
   "metadata": {},
   "source": [
    "### Mann-Whitney U Test\n"
   ]
  },
  {
   "cell_type": "markdown",
   "metadata": {},
   "source": [
    "#### Two-Sided"
   ]
  },
  {
   "cell_type": "code",
   "execution_count": 23,
   "metadata": {},
   "outputs": [
    {
     "name": "stdout",
     "output_type": "stream",
     "text": [
      "Two-Sided U statistic: 74668.50\n",
      "Two-Sided P-value: 1.30e-09\n",
      "H_0 can be rejected.\n"
     ]
    }
   ],
   "source": [
    "# Perform Mann-Whitney U test\n",
    "u_statistic, p_value = mannwhitneyu(alone_survivors, alone_victims)\n",
    "\n",
    "# Print results\n",
    "print(f\"Two-Sided U statistic: {u_statistic:.{DEFAULT_PRECISION}f}\")\n",
    "print(f\"Two-Sided P-value: {p_value:.{DEFAULT_PRECISION}e}\")\n",
    "\n",
    "# Test interpretation\n",
    "if p_value < ALPHA:\n",
    "    print(\"H_0 can be rejected.\")\n",
    "else:\n",
    "    print(\"H_0 cannot be rejected.\")"
   ]
  },
  {
   "cell_type": "markdown",
   "metadata": {},
   "source": [
    "#### One-Sided"
   ]
  },
  {
   "cell_type": "code",
   "execution_count": 24,
   "metadata": {},
   "outputs": [
    {
     "name": "stdout",
     "output_type": "stream",
     "text": [
      "One-Sided U statistic: 74668.50\n",
      "One-Sided P-value: 6.52e-10\n",
      "H_0 can be rejected.\n"
     ]
    }
   ],
   "source": [
    "# Perform Mann-Whitney U test\n",
    "u_statistic, p_value = mannwhitneyu(alone_survivors, alone_victims, alternative=\"less\")\n",
    "\n",
    "# Print results\n",
    "print(f\"One-Sided U statistic: {u_statistic:.{DEFAULT_PRECISION}f}\")\n",
    "print(f\"One-Sided P-value: {p_value:.{DEFAULT_PRECISION}e}\")\n",
    "\n",
    "# Test interpretation\n",
    "if p_value < ALPHA:\n",
    "    print(\"H_0 can be rejected.\")\n",
    "else:\n",
    "    print(\"H_0 cannot be rejected.\")"
   ]
  },
  {
   "cell_type": "markdown",
   "metadata": {},
   "source": [
    "### Wilcoxon Rank-Sum Test (with continuity correction)"
   ]
  },
  {
   "cell_type": "markdown",
   "metadata": {},
   "source": [
    "#### Two-Sided"
   ]
  },
  {
   "cell_type": "code",
   "execution_count": 25,
   "metadata": {},
   "outputs": [
    {
     "name": "stdout",
     "output_type": "stream",
     "text": [
      "Two-Sided Rank statistic: -5.14\n",
      "Two-Sided P-value: 2.72e-07\n",
      "H_0 can be rejected.\n"
     ]
    }
   ],
   "source": [
    "# Perform Wilcoxon rank-sum test\n",
    "rank_statistic, p_value = ranksums(alone_survivors, alone_victims)\n",
    "\n",
    "# Print results\n",
    "print(f\"Two-Sided Rank statistic: {rank_statistic:.{DEFAULT_PRECISION}f}\")\n",
    "print(f\"Two-Sided P-value: {p_value:.{DEFAULT_PRECISION}e}\")\n",
    "\n",
    "# Test interpretation\n",
    "if p_value < ALPHA:\n",
    "    print(\"H_0 can be rejected.\")\n",
    "else:\n",
    "    print(\"H_0 cannot be rejected.\")"
   ]
  },
  {
   "cell_type": "markdown",
   "metadata": {},
   "source": [
    "#### One-Sided"
   ]
  },
  {
   "cell_type": "code",
   "execution_count": 26,
   "metadata": {},
   "outputs": [
    {
     "name": "stdout",
     "output_type": "stream",
     "text": [
      "One-Sided Rank statistic: -5.14\n",
      "One-Sided P-value: 1.36e-07\n",
      "H_0 can be rejected.\n"
     ]
    }
   ],
   "source": [
    "# Perform Wilcoxon rank-sum test\n",
    "rank_statistic, p_value = ranksums(alone_survivors, alone_victims, alternative=\"less\")\n",
    "\n",
    "# Print results\n",
    "print(f\"One-Sided Rank statistic: {rank_statistic:.{DEFAULT_PRECISION}f}\")\n",
    "print(f\"One-Sided P-value: {p_value:.{DEFAULT_PRECISION}e}\")\n",
    "\n",
    "# Test interpretation\n",
    "if p_value < ALPHA:\n",
    "    print(\"H_0 can be rejected.\")\n",
    "else:\n",
    "    print(\"H_0 cannot be rejected.\")"
   ]
  },
  {
   "cell_type": "markdown",
   "metadata": {},
   "source": [
    "### Chi-Square Test for Independence\n",
    "\n"
   ]
  },
  {
   "cell_type": "code",
   "execution_count": 27,
   "metadata": {},
   "outputs": [
    {
     "name": "stdout",
     "output_type": "stream",
     "text": [
      "Chi-Square: 36.00\n",
      "P-value: 1.97e-09\n",
      "Degrees of Freedom: 1\n",
      "Expected frequencies:\n",
      "[[218.12 135.88]\n",
      " [330.88 206.12]]\n",
      "H_0 can be rejected.\n"
     ]
    }
   ],
   "source": [
    "# Perform Chi-Square test\n",
    "chi2, p, dof, expected = chi2_contingency(survival_rate_by_alone)\n",
    "\n",
    "# Print results\n",
    "with np.printoptions(precision=DEFAULT_PRECISION):\n",
    "    print(f\"Chi-Square: {chi2:.{DEFAULT_PRECISION}f}\")\n",
    "    print(f\"P-value: {p:.{DEFAULT_PRECISION}e}\")\n",
    "    print(f\"Degrees of Freedom: {dof}\")\n",
    "    print(f\"Expected frequencies:\\n{expected}\")\n",
    "\n",
    "# Test interpretation\n",
    "if p < ALPHA:\n",
    "    print(\"H_0 can be rejected.\")\n",
    "else:\n",
    "    print(\"H_0 cannot be rejected.\")"
   ]
  },
  {
   "cell_type": "markdown",
   "metadata": {},
   "source": [
    "### Fisher's Exact Test\n"
   ]
  },
  {
   "cell_type": "markdown",
   "metadata": {},
   "source": [
    "#### Two-Sided"
   ]
  },
  {
   "cell_type": "code",
   "execution_count": 28,
   "metadata": {},
   "outputs": [
    {
     "name": "stdout",
     "output_type": "stream",
     "text": [
      "Two-Sided Odds Ratio: 0.43\n",
      "Two-Sided P-value: 1.86e-09\n",
      "H_0 can be rejected.\n"
     ]
    }
   ],
   "source": [
    "# Perform Fisher's Exact Test \n",
    "odds_ratio, p_value = fisher_exact(survival_rate_by_alone)\n",
    "\n",
    "# Print results\n",
    "print(f\"Two-Sided Odds Ratio: {odds_ratio:.{DEFAULT_PRECISION}f}\")\n",
    "print(f\"Two-Sided P-value: {p_value:.{DEFAULT_PRECISION}e}\")\n",
    "\n",
    "# Test interpretation\n",
    "if p_value < ALPHA:\n",
    "    print(\"H_0 can be rejected.\")\n",
    "else:\n",
    "    print(\"H_0 cannot be rejected.\")"
   ]
  },
  {
   "cell_type": "markdown",
   "metadata": {},
   "source": [
    "#### One-Sided"
   ]
  },
  {
   "cell_type": "code",
   "execution_count": 29,
   "metadata": {},
   "outputs": [
    {
     "name": "stdout",
     "output_type": "stream",
     "text": [
      "One-Sided Odds Ratio: 0.43\n",
      "One-Sided P-value: 1.06e-09\n",
      "H_0 can be rejected.\n"
     ]
    }
   ],
   "source": [
    "# Perform Fisher's Exact Test \n",
    "odds_ratio, p_value = fisher_exact(survival_rate_by_alone, alternative=\"less\")\n",
    "\n",
    "# Print results\n",
    "print(f\"One-Sided Odds Ratio: {odds_ratio:.{DEFAULT_PRECISION}f}\")\n",
    "print(f\"One-Sided P-value: {p_value:.{DEFAULT_PRECISION}e}\")\n",
    "\n",
    "# Test interpretation\n",
    "if p_value < ALPHA:\n",
    "    print(\"H_0 can be rejected.\")\n",
    "else:\n",
    "    print(\"H_0 cannot be rejected.\")"
   ]
  },
  {
   "cell_type": "markdown",
   "metadata": {},
   "source": [
    "### Test in the Case of Dependent Samples"
   ]
  },
  {
   "cell_type": "markdown",
   "metadata": {},
   "source": [
    "#### Permutation Test"
   ]
  },
  {
   "cell_type": "markdown",
   "metadata": {},
   "source": [
    "##### Two-Sided"
   ]
  },
  {
   "cell_type": "code",
   "execution_count": 30,
   "metadata": {},
   "outputs": [
    {
     "name": "stdout",
     "output_type": "stream",
     "text": [
      "Two-Sided Statistic: -2.02e-01\n",
      "Two-Sided P-value: 2.00e-03\n",
      "H_0 can be rejected.\n"
     ]
    }
   ],
   "source": [
    "N_PERMUTATIONS = 1000\n",
    "\n",
    "# Split the data into the class of interest\n",
    "alone_survival = df[df[\"Family\"] == 0][\"Survived\"]\n",
    "non_alone_survival = df[df[\"Family\"] != 0][\"Survived\"]\n",
    "# Perform permuation test\n",
    "result = permutation_test(\n",
    "    data=(alone_survival, non_alone_survival),\n",
    "    statistic=lambda c, nc: np.mean(c) - np.mean(nc),\n",
    "    permutation_type=\"independent\",\n",
    "    n_resamples=N_PERMUTATIONS,\n",
    "    alternative=\"two-sided\"\n",
    ")\n",
    "\n",
    "# Print results\n",
    "print(f\"Two-Sided Statistic: {result.statistic:.{DEFAULT_PRECISION}e}\")\n",
    "print(f\"Two-Sided P-value: {result.pvalue:.{DEFAULT_PRECISION}e}\")\n",
    "\n",
    "# Test interpretation\n",
    "if result.pvalue < ALPHA:\n",
    "    print(\"H_0 can be rejected.\")\n",
    "else:\n",
    "    print(\"H_0 cannot be rejected.\")"
   ]
  },
  {
   "cell_type": "markdown",
   "metadata": {},
   "source": [
    "##### One-Sided"
   ]
  },
  {
   "cell_type": "code",
   "execution_count": 31,
   "metadata": {},
   "outputs": [
    {
     "name": "stdout",
     "output_type": "stream",
     "text": [
      "One-Sided Statistic: -2.02e-01\n",
      "One-Sided P-value: 9.99e-04\n",
      "H_0 can be rejected.\n"
     ]
    }
   ],
   "source": [
    "N_PERMUTATIONS = 1000\n",
    "\n",
    "# Split the data into the class of interest\n",
    "alone_survival = df[df[\"Family\"] == 0][\"Survived\"]\n",
    "non_alone_survival = df[df[\"Family\"] != 0][\"Survived\"]\n",
    "# Perform permuation test\n",
    "result = permutation_test(\n",
    "    data=(alone_survival, non_alone_survival),\n",
    "    statistic=lambda c, nc: np.mean(c) - np.mean(nc),\n",
    "    permutation_type=\"independent\",\n",
    "    n_resamples=N_PERMUTATIONS,\n",
    "    alternative=\"less\"\n",
    ")\n",
    "\n",
    "# Print results\n",
    "print(f\"One-Sided Statistic: {result.statistic:.{DEFAULT_PRECISION}e}\")\n",
    "print(f\"One-Sided P-value: {result.pvalue:.{DEFAULT_PRECISION}e}\")\n",
    "\n",
    "# Test interpretation\n",
    "if result.pvalue < ALPHA:\n",
    "    print(\"H_0 can be rejected.\")\n",
    "else:\n",
    "    print(\"H_0 cannot be rejected.\")"
   ]
  },
  {
   "cell_type": "markdown",
   "metadata": {},
   "source": [
    "## People per Family on Board"
   ]
  },
  {
   "cell_type": "markdown",
   "metadata": {},
   "source": [
    "### People per Family on Board (raw)"
   ]
  },
  {
   "cell_type": "code",
   "execution_count": 32,
   "metadata": {},
   "outputs": [
    {
     "data": {
      "image/png": "[encoded data removed]",
      "text/plain": [
       "<Figure size 640x480 with 1 Axes>"
      ]
     },
     "metadata": {},
     "output_type": "display_data"
    }
   ],
   "source": [
    "# Calculate the count of people per family\n",
    "people_per_family = df[\"Family\"].value_counts().sort_index()\n",
    "\n",
    "fig, ax = plt.subplots()\n",
    "\n",
    "# Plot the count of people per family\n",
    "people_per_family.plot(\n",
    "    kind=\"bar\",\n",
    "    xlabel=\"Additional Family Members\",\n",
    "    ylabel=\"Count\",\n",
    "    color=COLOURS[\"mid_blue\"],\n",
    "    ax=ax\n",
    ")\n",
    "# Rotate the x-axis labels\n",
    "plt.xticks(rotation=0)\n",
    "# Get x values of the ax bars\n",
    "x_values = np.sort(df[\"Family\"].unique())\n",
    "# Get y values of the ax bars\n",
    "y_values = tuple(map(lambda p: p.get_height(), ax.patches))\n",
    "# Plot approximation\n",
    "c = np.polyfit(x_values, y_values, 4)\n",
    "x = np.linspace(0, len(people_per_family.index), 50)\n",
    "y = np.polyval(c, x)\n",
    "ax.plot(x, y, color=COLOURS[\"blue\"])\n",
    "plt.ylim(0, 550)\n",
    "\n",
    "# Save the plot as a PDF file\n",
    "plt.tight_layout()\n",
    "plt.savefig(\"figures/family_raw.pdf\", bbox_inches=\"tight\")\n",
    "plt.savefig(\"figures/family_raw.pgf\", bbox_inches=\"tight\")"
   ]
  },
  {
   "cell_type": "markdown",
   "metadata": {},
   "source": [
    "### People per Family on Board (normalised)"
   ]
  },
  {
   "cell_type": "code",
   "execution_count": 33,
   "metadata": {},
   "outputs": [
    {
     "data": {
      "image/png": "[encoded data removed]",
      "text/plain": [
       "<Figure size 640x480 with 1 Axes>"
      ]
     },
     "metadata": {},
     "output_type": "display_data"
    }
   ],
   "source": [
    "# Calculate the rate of people per family\n",
    "people_per_family = df[\"Family\"].value_counts(normalize=True).sort_index()\n",
    "\n",
    "plt.figure()\n",
    "# Plot the count of people per family\n",
    "people_per_family.plot(\n",
    "    kind=\"bar\",\n",
    "    xlabel=\"Additional Family Members\",\n",
    "    ylabel=\"Proportion\",\n",
    "    color=COLOURS[\"mid_blue\"]\n",
    ")\n",
    "# Calculate approximation\n",
    "c = np.polyfit(people_per_family.index, people_per_family.values, 4)\n",
    "x = np.linspace(0, len(people_per_family.index), 50)\n",
    "y = np.polyval(c, x)\n",
    "plt.plot(x, y, color=COLOURS[\"blue\"])\n",
    "# Rotate the x-axis labels\n",
    "plt.xticks(rotation=0)\n",
    "# Change y-labels to percentages\n",
    "y_ticks = [f\"{y:.0%}\" for y in plt.yticks()[0]]\n",
    "plt.yticks(plt.yticks()[0], y_ticks)\n",
    "plt.ylim(0, 0.65)\n",
    "\n",
    "# Save the plot as a PDF file\n",
    "plt.tight_layout()\n",
    "plt.savefig(\"figures/family_normalised.pdf\", bbox_inches=\"tight\")\n",
    "plt.savefig(\"figures/family_normalised.pgf\", bbox_inches=\"tight\")"
   ]
  },
  {
   "cell_type": "markdown",
   "metadata": {},
   "source": [
    "## Survival Rate by Family on Board"
   ]
  },
  {
   "cell_type": "markdown",
   "metadata": {},
   "source": [
    "### Categorical: Amount of Additional Family"
   ]
  },
  {
   "cell_type": "markdown",
   "metadata": {},
   "source": [
    "#### Survival rate by family on board (raw)"
   ]
  },
  {
   "cell_type": "code",
   "execution_count": 34,
   "metadata": {},
   "outputs": [
    {
     "data": {
      "text/html": [
       "<div>\n",
       "<style scoped>\n",
       "    .dataframe tbody tr th:only-of-type {\n",
       "        vertical-align: middle;\n",
       "    }\n",
       "\n",
       "    .dataframe tbody tr th {\n",
       "        vertical-align: top;\n",
       "    }\n",
       "\n",
       "    .dataframe thead th {\n",
       "        text-align: right;\n",
       "    }\n",
       "</style>\n",
       "<table border=\"1\" class=\"dataframe\">\n",
       "  <thead>\n",
       "    <tr style=\"text-align: right;\">\n",
       "      <th>Survived</th>\n",
       "      <th>False</th>\n",
       "      <th>True</th>\n",
       "    </tr>\n",
       "    <tr>\n",
       "      <th>Family</th>\n",
       "      <th></th>\n",
       "      <th></th>\n",
       "    </tr>\n",
       "  </thead>\n",
       "  <tbody>\n",
       "    <tr>\n",
       "      <th>0</th>\n",
       "      <td>374</td>\n",
       "      <td>163</td>\n",
       "    </tr>\n",
       "    <tr>\n",
       "      <th>1</th>\n",
       "      <td>72</td>\n",
       "      <td>89</td>\n",
       "    </tr>\n",
       "    <tr>\n",
       "      <th>2</th>\n",
       "      <td>43</td>\n",
       "      <td>59</td>\n",
       "    </tr>\n",
       "    <tr>\n",
       "      <th>3</th>\n",
       "      <td>8</td>\n",
       "      <td>21</td>\n",
       "    </tr>\n",
       "    <tr>\n",
       "      <th>4</th>\n",
       "      <td>12</td>\n",
       "      <td>3</td>\n",
       "    </tr>\n",
       "    <tr>\n",
       "      <th>5</th>\n",
       "      <td>19</td>\n",
       "      <td>3</td>\n",
       "    </tr>\n",
       "    <tr>\n",
       "      <th>6</th>\n",
       "      <td>8</td>\n",
       "      <td>4</td>\n",
       "    </tr>\n",
       "    <tr>\n",
       "      <th>7</th>\n",
       "      <td>6</td>\n",
       "      <td>0</td>\n",
       "    </tr>\n",
       "    <tr>\n",
       "      <th>10</th>\n",
       "      <td>7</td>\n",
       "      <td>0</td>\n",
       "    </tr>\n",
       "  </tbody>\n",
       "</table>\n",
       "</div>"
      ],
      "text/plain": [
       "Survived  False  True \n",
       "Family                \n",
       "0           374    163\n",
       "1            72     89\n",
       "2            43     59\n",
       "3             8     21\n",
       "4            12      3\n",
       "5            19      3\n",
       "6             8      4\n",
       "7             6      0\n",
       "10            7      0"
      ]
     },
     "execution_count": 34,
     "metadata": {},
     "output_type": "execute_result"
    }
   ],
   "source": [
    "# Calculate the survival rate by family\n",
    "survival_rate_by_family = pd.crosstab(df[\"Family\"], df[\"Survived\"])\n",
    "\n",
    "# Format the index and columns of the dataframe\n",
    "styler = survival_rate_by_family.style\n",
    "styler.format_index(\"\\\\textbf{{{}}}\", axis=0, escape=\"latex\")\n",
    "styler.format_index(\"\\\\textbf{{{}}}\", axis=1, escape=\"latex\")\n",
    "# Convert the dataframe to LaTeX and save it as a table\n",
    "styler.to_latex(\"tables/survival-family_raw.tex\", hrules=True)\n",
    "\n",
    "# Display the survival rate by family dataframe\n",
    "survival_rate_by_family"
   ]
  },
  {
   "cell_type": "code",
   "execution_count": 35,
   "metadata": {},
   "outputs": [
    {
     "data": {
      "image/png": "[encoded data removed]",
      "text/plain": [
       "<Figure size 640x480 with 1 Axes>"
      ]
     },
     "metadata": {},
     "output_type": "display_data"
    }
   ],
   "source": [
    "# Create a figure and axes\n",
    "fig, ax = plt.subplots()\n",
    "\n",
    "# Plot the survival rate by family\n",
    "survival_rate_by_family[True].plot(\n",
    "    kind=\"bar\",\n",
    "    xlabel=\"Additional Family Members\",\n",
    "    ylabel=\"Count\",\n",
    "    color=COLOURS[\"mid_blue\"],\n",
    "    ax=ax\n",
    ")\n",
    "# Rotate the x-axis labels\n",
    "plt.xticks(rotation=0)\n",
    "# Get x values of the ax bars\n",
    "x_values = np.sort(df[\"Family\"].unique())\n",
    "# Get y values of the ax bars\n",
    "y_values = tuple(map(lambda p: p.get_height(), ax.patches))\n",
    "# Plot approximation\n",
    "c = np.polyfit(x_values, y_values, 4)\n",
    "x = np.linspace(0, len(survival_rate_by_family.index), 50)\n",
    "y = np.polyval(c, x)\n",
    "ax.plot(x, y, color=COLOURS[\"blue\"])\n",
    "\n",
    "# Save the plot as a PDF file\n",
    "plt.tight_layout()\n",
    "plt.savefig(\"figures/survival-family_raw.pdf\", bbox_inches=\"tight\")\n",
    "plt.savefig(\"figures/survival-family_raw.pgf\", bbox_inches=\"tight\")"
   ]
  },
  {
   "cell_type": "markdown",
   "metadata": {},
   "source": [
    "#### Survival rate by family on board (normalised)"
   ]
  },
  {
   "cell_type": "code",
   "execution_count": 36,
   "metadata": {},
   "outputs": [
    {
     "data": {
      "text/html": [
       "<div>\n",
       "<style scoped>\n",
       "    .dataframe tbody tr th:only-of-type {\n",
       "        vertical-align: middle;\n",
       "    }\n",
       "\n",
       "    .dataframe tbody tr th {\n",
       "        vertical-align: top;\n",
       "    }\n",
       "\n",
       "    .dataframe thead th {\n",
       "        text-align: right;\n",
       "    }\n",
       "</style>\n",
       "<table border=\"1\" class=\"dataframe\">\n",
       "  <thead>\n",
       "    <tr style=\"text-align: right;\">\n",
       "      <th>Survived</th>\n",
       "      <th>False</th>\n",
       "      <th>True</th>\n",
       "    </tr>\n",
       "    <tr>\n",
       "      <th>Family</th>\n",
       "      <th></th>\n",
       "      <th></th>\n",
       "    </tr>\n",
       "  </thead>\n",
       "  <tbody>\n",
       "    <tr>\n",
       "      <th>0</th>\n",
       "      <td>0.696462</td>\n",
       "      <td>0.303538</td>\n",
       "    </tr>\n",
       "    <tr>\n",
       "      <th>1</th>\n",
       "      <td>0.447205</td>\n",
       "      <td>0.552795</td>\n",
       "    </tr>\n",
       "    <tr>\n",
       "      <th>2</th>\n",
       "      <td>0.421569</td>\n",
       "      <td>0.578431</td>\n",
       "    </tr>\n",
       "    <tr>\n",
       "      <th>3</th>\n",
       "      <td>0.275862</td>\n",
       "      <td>0.724138</td>\n",
       "    </tr>\n",
       "    <tr>\n",
       "      <th>4</th>\n",
       "      <td>0.800000</td>\n",
       "      <td>0.200000</td>\n",
       "    </tr>\n",
       "    <tr>\n",
       "      <th>5</th>\n",
       "      <td>0.863636</td>\n",
       "      <td>0.136364</td>\n",
       "    </tr>\n",
       "    <tr>\n",
       "      <th>6</th>\n",
       "      <td>0.666667</td>\n",
       "      <td>0.333333</td>\n",
       "    </tr>\n",
       "    <tr>\n",
       "      <th>7</th>\n",
       "      <td>1.000000</td>\n",
       "      <td>0.000000</td>\n",
       "    </tr>\n",
       "    <tr>\n",
       "      <th>10</th>\n",
       "      <td>1.000000</td>\n",
       "      <td>0.000000</td>\n",
       "    </tr>\n",
       "  </tbody>\n",
       "</table>\n",
       "</div>"
      ],
      "text/plain": [
       "Survived     False     True \n",
       "Family                      \n",
       "0         0.696462  0.303538\n",
       "1         0.447205  0.552795\n",
       "2         0.421569  0.578431\n",
       "3         0.275862  0.724138\n",
       "4         0.800000  0.200000\n",
       "5         0.863636  0.136364\n",
       "6         0.666667  0.333333\n",
       "7         1.000000  0.000000\n",
       "10        1.000000  0.000000"
      ]
     },
     "execution_count": 36,
     "metadata": {},
     "output_type": "execute_result"
    }
   ],
   "source": [
    "# Calculate the survival count by family\n",
    "survival_rate_by_family = pd.crosstab(df[\"Family\"], df[\"Survived\"], normalize=\"index\")\n",
    "\n",
    "# Format the index and columns of the dataframe\n",
    "styler = survival_rate_by_family.style\n",
    "styler.format_index(\"\\\\textbf{{{}}}\", axis=0, escape=\"latex\")\n",
    "styler.format_index(\"\\\\textbf{{{}}}\", axis=1, escape=\"latex\")\n",
    "# Format the values in the dataframe\n",
    "styler.format(\n",
    "    subset=None,\n",
    "    formatter=lambda x: f\"{100*x:.{DEFAULT_PRECISION}f}\"+\"\\%\"\n",
    ")\n",
    "# Convert the dataframe to LaTeX and save it as a table\n",
    "styler.to_latex(\"tables/survival-family_normalised.tex\", hrules=True)\n",
    "\n",
    "# Display the survival rate by family dataframe\n",
    "survival_rate_by_family"
   ]
  },
  {
   "cell_type": "code",
   "execution_count": 37,
   "metadata": {},
   "outputs": [
    {
     "data": {
      "image/png": "[encoded data removed]",
      "text/plain": [
       "<Figure size 640x480 with 1 Axes>"
      ]
     },
     "metadata": {},
     "output_type": "display_data"
    }
   ],
   "source": [
    "# Create a figure and axes\n",
    "fig, ax = plt.subplots()\n",
    "\n",
    "# Plot the survival rate by family on board (normalised)\n",
    "survival_rate_by_family[True].plot(\n",
    "    xlabel=\"Additional Family Members\",\n",
    "    ylabel=\"Rate\",\n",
    "    kind=\"bar\",\n",
    "    stacked=False,\n",
    "    color=COLOURS[\"mid_blue\"],\n",
    "    ax=ax\n",
    ")\n",
    "# Rotate x-axis labels\n",
    "plt.xticks(rotation=0)\n",
    "# Change y-labels to percentages\n",
    "y_ticks = [f\"{y:.0%}\" for y in plt.yticks()[0]]\n",
    "plt.yticks(plt.yticks()[0], y_ticks)\n",
    "\n",
    "# Plot approximation\n",
    "c = np.polyfit(df[\"Family\"], df[\"Survived\"], 4)\n",
    "x = np.linspace(0, len(survival_rate_by_family.index), 50)\n",
    "y = np.polyval(c, x)\n",
    "ax.set_ylim(0, 0.8)\n",
    "ax.plot(x, y, color=COLOURS[\"blue\"])\n",
    "\n",
    "# Save the plot as a PDF file\n",
    "plt.tight_layout()\n",
    "plt.savefig(\"figures/survival-family_normalised.pdf\", bbox_inches=\"tight\")\n",
    "plt.savefig(\"figures/survival-family_normalised.pgf\", bbox_inches=\"tight\")"
   ]
  },
  {
   "cell_type": "markdown",
   "metadata": {},
   "source": [
    "### Binary: Alone or Together"
   ]
  },
  {
   "cell_type": "markdown",
   "metadata": {},
   "source": [
    "#### Survival rate by alone or together (raw)"
   ]
  },
  {
   "cell_type": "code",
   "execution_count": 38,
   "metadata": {},
   "outputs": [
    {
     "data": {
      "text/html": [
       "<div>\n",
       "<style scoped>\n",
       "    .dataframe tbody tr th:only-of-type {\n",
       "        vertical-align: middle;\n",
       "    }\n",
       "\n",
       "    .dataframe tbody tr th {\n",
       "        vertical-align: top;\n",
       "    }\n",
       "\n",
       "    .dataframe thead th {\n",
       "        text-align: right;\n",
       "    }\n",
       "</style>\n",
       "<table border=\"1\" class=\"dataframe\">\n",
       "  <thead>\n",
       "    <tr style=\"text-align: right;\">\n",
       "      <th>Survived</th>\n",
       "      <th>False</th>\n",
       "      <th>True</th>\n",
       "    </tr>\n",
       "    <tr>\n",
       "      <th>Family</th>\n",
       "      <th></th>\n",
       "      <th></th>\n",
       "    </tr>\n",
       "  </thead>\n",
       "  <tbody>\n",
       "    <tr>\n",
       "      <th>False</th>\n",
       "      <td>175</td>\n",
       "      <td>179</td>\n",
       "    </tr>\n",
       "    <tr>\n",
       "      <th>True</th>\n",
       "      <td>374</td>\n",
       "      <td>163</td>\n",
       "    </tr>\n",
       "  </tbody>\n",
       "</table>\n",
       "</div>"
      ],
      "text/plain": [
       "Survived  False  True \n",
       "Family                \n",
       "False       175    179\n",
       "True        374    163"
      ]
     },
     "execution_count": 38,
     "metadata": {},
     "output_type": "execute_result"
    }
   ],
   "source": [
    "# Calculate the survival count by alone\n",
    "survival_rate_by_alone = pd.crosstab(df[\"Family\"] == 0, df[\"Survived\"])#survival_rate_by_family.groupby(survival_rate_by_family.index == 0).sum()\n",
    "\n",
    "# Format the index and columns of the dataframe\n",
    "styler = survival_rate_by_alone.style\n",
    "styler.format_index(\"\\\\textbf{{{}}}\", axis=0, escape=\"latex\")\n",
    "styler.format_index(\"\\\\textbf{{{}}}\", axis=1, escape=\"latex\")\n",
    "styler.format(subset=None, precision=0)\n",
    "# Convert the dataframe to LaTeX and save it as a table\n",
    "styler.to_latex(\"tables/survival-alone_raw.tex\", hrules=True)\n",
    "\n",
    "# Display the survival rate by alone dataframe\n",
    "survival_rate_by_alone"
   ]
  },
  {
   "cell_type": "code",
   "execution_count": 39,
   "metadata": {},
   "outputs": [
    {
     "data": {
      "image/png": "[encoded data removed]",
      "text/plain": [
       "<Figure size 640x480 with 1 Axes>"
      ]
     },
     "metadata": {},
     "output_type": "display_data"
    }
   ],
   "source": [
    "toplot = survival_rate_by_alone.sum(axis=1)\n",
    "toplot.plot(\n",
    "    kind=\"bar\",\n",
    "    xlabel=\"Alone\",\n",
    "    ylabel=\"Count\",\n",
    "    color=COLOURS[\"mid_blue\"]\n",
    ")\n",
    "# Rotate x-axis labels\n",
    "plt.xticks(rotation=0)\n",
    "# Save the plot as a PDF file\n",
    "plt.tight_layout()\n",
    "plt.savefig(\"figures/alone_raw.pdf\", bbox_inches=\"tight\")\n",
    "plt.savefig(\"figures/alone_raw.pgf\", bbox_inches=\"tight\")"
   ]
  },
  {
   "cell_type": "code",
   "execution_count": 40,
   "metadata": {},
   "outputs": [
    {
     "data": {
      "image/png": "[encoded data removed]",
      "text/plain": [
       "<Figure size 640x480 with 1 Axes>"
      ]
     },
     "metadata": {},
     "output_type": "display_data"
    }
   ],
   "source": [
    "toplot = survival_rate_by_alone.sum(axis=1)\n",
    "toplot /= toplot.sum()\n",
    "toplot.plot(\n",
    "    kind=\"bar\",\n",
    "    xlabel=\"Alone\",\n",
    "    ylabel=\"Proportion\",\n",
    "    color=COLOURS[\"mid_blue\"]\n",
    ")\n",
    "# Rotate x-axis labels\n",
    "plt.xticks(rotation=0)\n",
    "# Change y-labels to percentages\n",
    "y_ticks = [f\"{y:.0%}\" for y in plt.yticks()[0]]\n",
    "plt.yticks(plt.yticks()[0], y_ticks)\n",
    "# Save the plot as a PDF file\n",
    "plt.tight_layout()\n",
    "plt.savefig(\"figures/alone_normalised.pdf\", bbox_inches=\"tight\")\n",
    "plt.savefig(\"figures/alone_normalised.pgf\", bbox_inches=\"tight\")"
   ]
  },
  {
   "cell_type": "code",
   "execution_count": 41,
   "metadata": {},
   "outputs": [
    {
     "data": {
      "image/png": "[encoded data removed]",
      "text/plain": [
       "<Figure size 640x480 with 1 Axes>"
      ]
     },
     "metadata": {},
     "output_type": "display_data"
    }
   ],
   "source": [
    "# Plot the survival rate by alone or together (raw)\n",
    "survival_rate_by_alone.plot(\n",
    "    xlabel=\"Alone\",\n",
    "    ylabel=\"Count\",\n",
    "    kind=\"bar\",\n",
    "    stacked=False,\n",
    "    color=[COLOURS[\"red\"], COLOURS[\"green\"]]\n",
    ")\n",
    "# Rotate x-axis labels\n",
    "plt.xticks(rotation=0)\n",
    "\n",
    "# Save the plot as a PDF file\n",
    "plt.tight_layout()\n",
    "plt.savefig(\"figures/survival-alone_raw.pdf\", bbox_inches=\"tight\")\n",
    "plt.savefig(\"figures/survival-alone_raw.pgf\", bbox_inches=\"tight\")"
   ]
  },
  {
   "cell_type": "markdown",
   "metadata": {},
   "source": [
    "#### Survival rate by alone or together (normalised)"
   ]
  },
  {
   "cell_type": "code",
   "execution_count": 42,
   "metadata": {},
   "outputs": [
    {
     "data": {
      "text/html": [
       "<div>\n",
       "<style scoped>\n",
       "    .dataframe tbody tr th:only-of-type {\n",
       "        vertical-align: middle;\n",
       "    }\n",
       "\n",
       "    .dataframe tbody tr th {\n",
       "        vertical-align: top;\n",
       "    }\n",
       "\n",
       "    .dataframe thead th {\n",
       "        text-align: right;\n",
       "    }\n",
       "</style>\n",
       "<table border=\"1\" class=\"dataframe\">\n",
       "  <thead>\n",
       "    <tr style=\"text-align: right;\">\n",
       "      <th>Survived</th>\n",
       "      <th>False</th>\n",
       "      <th>True</th>\n",
       "    </tr>\n",
       "    <tr>\n",
       "      <th>Family</th>\n",
       "      <th></th>\n",
       "      <th></th>\n",
       "    </tr>\n",
       "  </thead>\n",
       "  <tbody>\n",
       "    <tr>\n",
       "      <th>False</th>\n",
       "      <td>0.494350</td>\n",
       "      <td>0.505650</td>\n",
       "    </tr>\n",
       "    <tr>\n",
       "      <th>True</th>\n",
       "      <td>0.696462</td>\n",
       "      <td>0.303538</td>\n",
       "    </tr>\n",
       "  </tbody>\n",
       "</table>\n",
       "</div>"
      ],
      "text/plain": [
       "Survived     False     True \n",
       "Family                      \n",
       "False     0.494350  0.505650\n",
       "True      0.696462  0.303538"
      ]
     },
     "execution_count": 42,
     "metadata": {},
     "output_type": "execute_result"
    }
   ],
   "source": [
    "# Calculate the survival rate by alone\n",
    "survival_rate_by_alone = pd.crosstab(df[\"Family\"] == 0, df[\"Survived\"], normalize=\"index\")\n",
    "\n",
    "# Format the index and columns of the dataframe\n",
    "styler = survival_rate_by_alone.style\n",
    "styler.format_index(\"\\\\textbf{{{}}}\", axis=0, escape=\"latex\")\n",
    "styler.format_index(\"\\\\textbf{{{}}}\", axis=1, escape=\"latex\")\n",
    "styler.format(\n",
    "    subset=None,\n",
    "    formatter=lambda x: f\"{100*x:.{DEFAULT_PRECISION}f}\"+\"\\%\"\n",
    ")\n",
    "# Convert the dataframe to LaTeX and save it as a table\n",
    "styler.to_latex(\"tables/survival-alone_normalised.tex\", hrules=True)\n",
    "\n",
    "# Display the survival rate by alone dataframe\n",
    "survival_rate_by_alone"
   ]
  },
  {
   "cell_type": "code",
   "execution_count": 43,
   "metadata": {},
   "outputs": [
    {
     "data": {
      "image/png": "[encoded data removed]",
      "text/plain": [
       "<Figure size 640x480 with 1 Axes>"
      ]
     },
     "metadata": {},
     "output_type": "display_data"
    }
   ],
   "source": [
    "# Plot the survival rate by alone or together (normalised)\n",
    "survival_rate_by_alone.plot(\n",
    "    xlabel=\"Alone\",\n",
    "    ylabel=\"Rate\",\n",
    "    kind=\"bar\",\n",
    "    stacked=False,\n",
    "    color=[COLOURS[\"red\"], COLOURS[\"green\"]]\n",
    ")\n",
    "# Change y-labels to percentages\n",
    "y_ticks = [f\"{y:.0%}\" for y in plt.yticks()[0]]\n",
    "plt.yticks(plt.yticks()[0], y_ticks)\n",
    "# Rotate x-axis labels\n",
    "plt.xticks(rotation=0)\n",
    "\n",
    "# Save the plot as a PDF file\n",
    "plt.tight_layout()\n",
    "plt.savefig(\"figures/survival-alone_normalised.pdf\", bbox_inches=\"tight\")\n",
    "plt.savefig(\"figures/survival-alone_normalised.pgf\", bbox_inches=\"tight\")"
   ]
  }
 ],
 "metadata": {
  "kernelspec": {
   "display_name": "base",
   "language": "python",
   "name": "python3"
  },
  "language_info": {
   "codemirror_mode": {
    "name": "ipython",
    "version": 3
   },
   "file_extension": ".py",
   "mimetype": "text/x-python",
   "name": "python",
   "nbconvert_exporter": "python",
   "pygments_lexer": "ipython3",
   "version": "3.11.9"
  }
 },
 "nbformat": 4,
 "nbformat_minor": 2
}
